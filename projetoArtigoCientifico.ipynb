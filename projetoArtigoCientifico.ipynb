{
  "cells": [
    { 
      "cell_type": "code",
      "execution_count": null,
      "metadata": {
        "id": "N-qJtcht0HF9"
      },
      "outputs": [],
      "source": [
        "import pandas as pd \n",
        "import numpy as np\n",
        "import matplotlib.pyplot as plt"
      ]
    },
    {
      "cell_type": "markdown",
      "metadata": {
        "id": "Sr_duDP-0HGC"
      },
      "source": [
        "# # Coleta de Dados"
      ]
    },
    {
      "cell_type": "code",
      "execution_count": null,
      "metadata": {
        "id": "I4lpUvfn0HGF"
      },
      "outputs": [],
      "source": [
        "dados = pd.read_csv('caso_full4.csv') # dados baixados de Brasil.IO"
      ]
    },
    {
      "cell_type": "code",
      "execution_count": null,
      "metadata": {
        "id": "cbVxV8-d0HGH",
        "outputId": "74384aa3-9dbc-4028-e24a-12aa8ea5b7a7"
      },
      "outputs": [
        {
          "data": {
            "text/html": [
              "<div>\n",
              "<style scoped>\n",
              "    .dataframe tbody tr th:only-of-type {\n",
              "        vertical-align: middle;\n",
              "    }\n",
              "\n",
              "    .dataframe tbody tr th {\n",
              "        vertical-align: top;\n",
              "    }\n",
              "\n",
              "    .dataframe thead th {\n",
              "        text-align: right;\n",
              "    }\n",
              "</style>\n",
              "<table border=\"1\" class=\"dataframe\">\n",
              "  <thead>\n",
              "    <tr style=\"text-align: right;\">\n",
              "      <th></th>\n",
              "      <th>city</th>\n",
              "      <th>city_ibge_code</th>\n",
              "      <th>date</th>\n",
              "      <th>epidemiological_week</th>\n",
              "      <th>estimated_population</th>\n",
              "      <th>estimated_population_2019</th>\n",
              "      <th>is_last</th>\n",
              "      <th>is_repeated</th>\n",
              "      <th>last_available_confirmed</th>\n",
              "      <th>last_available_confirmed_per_100k_inhabitants</th>\n",
              "      <th>last_available_date</th>\n",
              "      <th>last_available_death_rate</th>\n",
              "      <th>last_available_deaths</th>\n",
              "      <th>order_for_place</th>\n",
              "      <th>place_type</th>\n",
              "      <th>state</th>\n",
              "      <th>new_confirmed</th>\n",
              "      <th>new_deaths</th>\n",
              "    </tr>\n",
              "  </thead>\n",
              "  <tbody>\n",
              "    <tr>\n",
              "      <th>0</th>\n",
              "      <td>Rio Branco</td>\n",
              "      <td>1200401.0</td>\n",
              "      <td>2020-03-17</td>\n",
              "      <td>202012</td>\n",
              "      <td>413418.0</td>\n",
              "      <td>407319.0</td>\n",
              "      <td>False</td>\n",
              "      <td>False</td>\n",
              "      <td>3</td>\n",
              "      <td>0.72566</td>\n",
              "      <td>2020-03-17</td>\n",
              "      <td>0.0</td>\n",
              "      <td>0</td>\n",
              "      <td>1</td>\n",
              "      <td>city</td>\n",
              "      <td>AC</td>\n",
              "      <td>3</td>\n",
              "      <td>0</td>\n",
              "    </tr>\n",
              "    <tr>\n",
              "      <th>1</th>\n",
              "      <td>NaN</td>\n",
              "      <td>12.0</td>\n",
              "      <td>2020-03-17</td>\n",
              "      <td>202012</td>\n",
              "      <td>894470.0</td>\n",
              "      <td>881935.0</td>\n",
              "      <td>False</td>\n",
              "      <td>False</td>\n",
              "      <td>3</td>\n",
              "      <td>0.33539</td>\n",
              "      <td>2020-03-17</td>\n",
              "      <td>0.0</td>\n",
              "      <td>0</td>\n",
              "      <td>1</td>\n",
              "      <td>state</td>\n",
              "      <td>AC</td>\n",
              "      <td>3</td>\n",
              "      <td>0</td>\n",
              "    </tr>\n",
              "    <tr>\n",
              "      <th>2</th>\n",
              "      <td>Rio Branco</td>\n",
              "      <td>1200401.0</td>\n",
              "      <td>2020-03-18</td>\n",
              "      <td>202012</td>\n",
              "      <td>413418.0</td>\n",
              "      <td>407319.0</td>\n",
              "      <td>False</td>\n",
              "      <td>False</td>\n",
              "      <td>3</td>\n",
              "      <td>0.72566</td>\n",
              "      <td>2020-03-18</td>\n",
              "      <td>0.0</td>\n",
              "      <td>0</td>\n",
              "      <td>2</td>\n",
              "      <td>city</td>\n",
              "      <td>AC</td>\n",
              "      <td>0</td>\n",
              "      <td>0</td>\n",
              "    </tr>\n",
              "    <tr>\n",
              "      <th>3</th>\n",
              "      <td>NaN</td>\n",
              "      <td>12.0</td>\n",
              "      <td>2020-03-18</td>\n",
              "      <td>202012</td>\n",
              "      <td>894470.0</td>\n",
              "      <td>881935.0</td>\n",
              "      <td>False</td>\n",
              "      <td>False</td>\n",
              "      <td>3</td>\n",
              "      <td>0.33539</td>\n",
              "      <td>2020-03-18</td>\n",
              "      <td>0.0</td>\n",
              "      <td>0</td>\n",
              "      <td>2</td>\n",
              "      <td>state</td>\n",
              "      <td>AC</td>\n",
              "      <td>0</td>\n",
              "      <td>0</td>\n",
              "    </tr>\n",
              "    <tr>\n",
              "      <th>4</th>\n",
              "      <td>Rio Branco</td>\n",
              "      <td>1200401.0</td>\n",
              "      <td>2020-03-19</td>\n",
              "      <td>202012</td>\n",
              "      <td>413418.0</td>\n",
              "      <td>407319.0</td>\n",
              "      <td>False</td>\n",
              "      <td>False</td>\n",
              "      <td>4</td>\n",
              "      <td>0.96754</td>\n",
              "      <td>2020-03-19</td>\n",
              "      <td>0.0</td>\n",
              "      <td>0</td>\n",
              "      <td>3</td>\n",
              "      <td>city</td>\n",
              "      <td>AC</td>\n",
              "      <td>1</td>\n",
              "      <td>0</td>\n",
              "    </tr>\n",
              "  </tbody>\n",
              "</table>\n",
              "</div>"
            ],
            "text/plain": [
              "         city  city_ibge_code        date  epidemiological_week  \\\n",
              "0  Rio Branco       1200401.0  2020-03-17                202012   \n",
              "1         NaN            12.0  2020-03-17                202012   \n",
              "2  Rio Branco       1200401.0  2020-03-18                202012   \n",
              "3         NaN            12.0  2020-03-18                202012   \n",
              "4  Rio Branco       1200401.0  2020-03-19                202012   \n",
              "\n",
              "   estimated_population  estimated_population_2019  is_last  is_repeated  \\\n",
              "0              413418.0                   407319.0    False        False   \n",
              "1              894470.0                   881935.0    False        False   \n",
              "2              413418.0                   407319.0    False        False   \n",
              "3              894470.0                   881935.0    False        False   \n",
              "4              413418.0                   407319.0    False        False   \n",
              "\n",
              "   last_available_confirmed  last_available_confirmed_per_100k_inhabitants  \\\n",
              "0                         3                                        0.72566   \n",
              "1                         3                                        0.33539   \n",
              "2                         3                                        0.72566   \n",
              "3                         3                                        0.33539   \n",
              "4                         4                                        0.96754   \n",
              "\n",
              "  last_available_date  last_available_death_rate  last_available_deaths  \\\n",
              "0          2020-03-17                        0.0                      0   \n",
              "1          2020-03-17                        0.0                      0   \n",
              "2          2020-03-18                        0.0                      0   \n",
              "3          2020-03-18                        0.0                      0   \n",
              "4          2020-03-19                        0.0                      0   \n",
              "\n",
              "   order_for_place place_type state  new_confirmed  new_deaths  \n",
              "0                1       city    AC              3           0  \n",
              "1                1      state    AC              3           0  \n",
              "2                2       city    AC              0           0  \n",
              "3                2      state    AC              0           0  \n",
              "4                3       city    AC              1           0  "
            ]
          },
          "execution_count": 3,
          "metadata": {},
          "output_type": "execute_result"
        }
      ],
      "source": [
        "dados.head()"
      ]
    },
    {
      "cell_type": "code",
      "execution_count": null,
      "metadata": {
        "id": "CyH4oOzh0HGI",
        "outputId": "9ec87e5e-fed3-4e36-cc4b-8dc012ab931d"
      },
      "outputs": [
        {
          "data": {
            "text/html": [
              "<div>\n",
              "<style scoped>\n",
              "    .dataframe tbody tr th:only-of-type {\n",
              "        vertical-align: middle;\n",
              "    }\n",
              "\n",
              "    .dataframe tbody tr th {\n",
              "        vertical-align: top;\n",
              "    }\n",
              "\n",
              "    .dataframe thead th {\n",
              "        text-align: right;\n",
              "    }\n",
              "</style>\n",
              "<table border=\"1\" class=\"dataframe\">\n",
              "  <thead>\n",
              "    <tr style=\"text-align: right;\">\n",
              "      <th></th>\n",
              "      <th>city</th>\n",
              "      <th>city_ibge_code</th>\n",
              "      <th>date</th>\n",
              "      <th>epidemiological_week</th>\n",
              "      <th>estimated_population</th>\n",
              "      <th>estimated_population_2019</th>\n",
              "      <th>is_last</th>\n",
              "      <th>is_repeated</th>\n",
              "      <th>last_available_confirmed</th>\n",
              "      <th>last_available_confirmed_per_100k_inhabitants</th>\n",
              "      <th>last_available_date</th>\n",
              "      <th>last_available_death_rate</th>\n",
              "      <th>last_available_deaths</th>\n",
              "      <th>order_for_place</th>\n",
              "      <th>place_type</th>\n",
              "      <th>state</th>\n",
              "      <th>new_confirmed</th>\n",
              "      <th>new_deaths</th>\n",
              "    </tr>\n",
              "  </thead>\n",
              "  <tbody>\n",
              "    <tr>\n",
              "      <th>2225003</th>\n",
              "      <td>Tupirama</td>\n",
              "      <td>1721257.0</td>\n",
              "      <td>2021-06-10</td>\n",
              "      <td>202123</td>\n",
              "      <td>1922.0</td>\n",
              "      <td>1891.0</td>\n",
              "      <td>False</td>\n",
              "      <td>True</td>\n",
              "      <td>144</td>\n",
              "      <td>7492.19563</td>\n",
              "      <td>2021-05-30</td>\n",
              "      <td>0.0139</td>\n",
              "      <td>2</td>\n",
              "      <td>384</td>\n",
              "      <td>city</td>\n",
              "      <td>TO</td>\n",
              "      <td>0</td>\n",
              "      <td>0</td>\n",
              "    </tr>\n",
              "    <tr>\n",
              "      <th>2225004</th>\n",
              "      <td>Tupiratins</td>\n",
              "      <td>1721307.0</td>\n",
              "      <td>2021-06-10</td>\n",
              "      <td>202123</td>\n",
              "      <td>2729.0</td>\n",
              "      <td>2671.0</td>\n",
              "      <td>False</td>\n",
              "      <td>True</td>\n",
              "      <td>93</td>\n",
              "      <td>3407.84170</td>\n",
              "      <td>2021-05-30</td>\n",
              "      <td>0.0108</td>\n",
              "      <td>1</td>\n",
              "      <td>384</td>\n",
              "      <td>city</td>\n",
              "      <td>TO</td>\n",
              "      <td>0</td>\n",
              "      <td>0</td>\n",
              "    </tr>\n",
              "    <tr>\n",
              "      <th>2225005</th>\n",
              "      <td>Wanderlândia</td>\n",
              "      <td>1722081.0</td>\n",
              "      <td>2021-06-10</td>\n",
              "      <td>202123</td>\n",
              "      <td>11734.0</td>\n",
              "      <td>11683.0</td>\n",
              "      <td>False</td>\n",
              "      <td>True</td>\n",
              "      <td>803</td>\n",
              "      <td>6843.36117</td>\n",
              "      <td>2021-05-30</td>\n",
              "      <td>0.0149</td>\n",
              "      <td>12</td>\n",
              "      <td>409</td>\n",
              "      <td>city</td>\n",
              "      <td>TO</td>\n",
              "      <td>0</td>\n",
              "      <td>0</td>\n",
              "    </tr>\n",
              "    <tr>\n",
              "      <th>2225006</th>\n",
              "      <td>Xambioá</td>\n",
              "      <td>1722107.0</td>\n",
              "      <td>2021-06-10</td>\n",
              "      <td>202123</td>\n",
              "      <td>11520.0</td>\n",
              "      <td>11540.0</td>\n",
              "      <td>False</td>\n",
              "      <td>True</td>\n",
              "      <td>2085</td>\n",
              "      <td>18098.95833</td>\n",
              "      <td>2021-05-30</td>\n",
              "      <td>0.0129</td>\n",
              "      <td>27</td>\n",
              "      <td>398</td>\n",
              "      <td>city</td>\n",
              "      <td>TO</td>\n",
              "      <td>0</td>\n",
              "      <td>0</td>\n",
              "    </tr>\n",
              "    <tr>\n",
              "      <th>2225007</th>\n",
              "      <td>NaN</td>\n",
              "      <td>17.0</td>\n",
              "      <td>2021-06-10</td>\n",
              "      <td>202123</td>\n",
              "      <td>1590248.0</td>\n",
              "      <td>1572866.0</td>\n",
              "      <td>False</td>\n",
              "      <td>True</td>\n",
              "      <td>185594</td>\n",
              "      <td>11670.75827</td>\n",
              "      <td>2021-06-09</td>\n",
              "      <td>0.0161</td>\n",
              "      <td>2986</td>\n",
              "      <td>450</td>\n",
              "      <td>state</td>\n",
              "      <td>TO</td>\n",
              "      <td>0</td>\n",
              "      <td>0</td>\n",
              "    </tr>\n",
              "  </tbody>\n",
              "</table>\n",
              "</div>"
            ],
            "text/plain": [
              "                 city  city_ibge_code        date  epidemiological_week  \\\n",
              "2225003      Tupirama       1721257.0  2021-06-10                202123   \n",
              "2225004    Tupiratins       1721307.0  2021-06-10                202123   \n",
              "2225005  Wanderlândia       1722081.0  2021-06-10                202123   \n",
              "2225006       Xambioá       1722107.0  2021-06-10                202123   \n",
              "2225007           NaN            17.0  2021-06-10                202123   \n",
              "\n",
              "         estimated_population  estimated_population_2019  is_last  \\\n",
              "2225003                1922.0                     1891.0    False   \n",
              "2225004                2729.0                     2671.0    False   \n",
              "2225005               11734.0                    11683.0    False   \n",
              "2225006               11520.0                    11540.0    False   \n",
              "2225007             1590248.0                  1572866.0    False   \n",
              "\n",
              "         is_repeated  last_available_confirmed  \\\n",
              "2225003         True                       144   \n",
              "2225004         True                        93   \n",
              "2225005         True                       803   \n",
              "2225006         True                      2085   \n",
              "2225007         True                    185594   \n",
              "\n",
              "         last_available_confirmed_per_100k_inhabitants last_available_date  \\\n",
              "2225003                                     7492.19563          2021-05-30   \n",
              "2225004                                     3407.84170          2021-05-30   \n",
              "2225005                                     6843.36117          2021-05-30   \n",
              "2225006                                    18098.95833          2021-05-30   \n",
              "2225007                                    11670.75827          2021-06-09   \n",
              "\n",
              "         last_available_death_rate  last_available_deaths  order_for_place  \\\n",
              "2225003                     0.0139                      2              384   \n",
              "2225004                     0.0108                      1              384   \n",
              "2225005                     0.0149                     12              409   \n",
              "2225006                     0.0129                     27              398   \n",
              "2225007                     0.0161                   2986              450   \n",
              "\n",
              "        place_type state  new_confirmed  new_deaths  \n",
              "2225003       city    TO              0           0  \n",
              "2225004       city    TO              0           0  \n",
              "2225005       city    TO              0           0  \n",
              "2225006       city    TO              0           0  \n",
              "2225007      state    TO              0           0  "
            ]
          },
          "execution_count": 4,
          "metadata": {},
          "output_type": "execute_result"
        }
      ],
      "source": [
        "dados.tail()"
      ]
    },
    {
      "cell_type": "markdown",
      "metadata": {
        "id": "1FXbBdGc0HGJ"
      },
      "source": [
        "# # Pre-Processamento"
      ]
    },
    {
      "cell_type": "code",
      "execution_count": null,
      "metadata": {
        "id": "a_ma-Aet0HGK",
        "outputId": "6dc4ae65-fc72-470e-c90c-5b369d69438c"
      },
      "outputs": [
        {
          "data": {
            "text/plain": [
              "2225008"
            ]
          },
          "execution_count": 5,
          "metadata": {},
          "output_type": "execute_result"
        }
      ],
      "source": [
        "len(dados)"
      ]
    },
    {
      "cell_type": "code",
      "execution_count": null,
      "metadata": {
        "id": "tl4kekLU0HGL",
        "outputId": "067cc0bf-a79c-4ab8-a5d3-3340d2b811bc"
      },
      "outputs": [
        {
          "data": {
            "text/plain": [
              "array(['city', 'state'], dtype=object)"
            ]
          },
          "execution_count": 6,
          "metadata": {},
          "output_type": "execute_result"
        }
      ],
      "source": [
        "dados.place_type.unique()"
      ]
    },
    {
      "cell_type": "code",
      "execution_count": null,
      "metadata": {
        "id": "jmL9L0Vi0HGM",
        "outputId": "ff3934ea-d2b8-43ca-b6b4-7ecb9cc22808"
      },
      "outputs": [
        {
          "data": {
            "text/plain": [
              "array(['AC', 'AL', 'AM', 'AP', 'BA', 'CE', 'DF', 'ES', 'GO', 'MA', 'MG',\n",
              "       'MS', 'MT', 'PA', 'PB', 'PE', 'PI', 'PR', 'RJ', 'RN', 'RO', 'RR',\n",
              "       'RS', 'SC', 'SE', 'SP', 'TO'], dtype=object)"
            ]
          },
          "execution_count": 7,
          "metadata": {},
          "output_type": "execute_result"
        }
      ],
      "source": [
        "dados.state.unique()"
      ]
    },
    {
      "cell_type": "code",
      "execution_count": null,
      "metadata": {
        "id": "m16zLR9s0HGN"
      },
      "outputs": [],
      "source": [
        "dados = dados.loc[dados['place_type']=='state']\n",
        "dados = dados.loc[dados['state']=='SC']"
      ]
    },
    {
      "cell_type": "code",
      "execution_count": null,
      "metadata": {
        "id": "anvHgJEG0HGO",
        "outputId": "a5d3b0e5-923b-4c5c-d657-ab18d91aebf1"
      },
      "outputs": [
        {
          "data": {
            "text/html": [
              "<div>\n",
              "<style scoped>\n",
              "    .dataframe tbody tr th:only-of-type {\n",
              "        vertical-align: middle;\n",
              "    }\n",
              "\n",
              "    .dataframe tbody tr th {\n",
              "        vertical-align: top;\n",
              "    }\n",
              "\n",
              "    .dataframe thead th {\n",
              "        text-align: right;\n",
              "    }\n",
              "</style>\n",
              "<table border=\"1\" class=\"dataframe\">\n",
              "  <thead>\n",
              "    <tr style=\"text-align: right;\">\n",
              "      <th></th>\n",
              "      <th>city</th>\n",
              "      <th>city_ibge_code</th>\n",
              "      <th>date</th>\n",
              "      <th>epidemiological_week</th>\n",
              "      <th>estimated_population</th>\n",
              "      <th>estimated_population_2019</th>\n",
              "      <th>is_last</th>\n",
              "      <th>is_repeated</th>\n",
              "      <th>last_available_confirmed</th>\n",
              "      <th>last_available_confirmed_per_100k_inhabitants</th>\n",
              "      <th>last_available_date</th>\n",
              "      <th>last_available_death_rate</th>\n",
              "      <th>last_available_deaths</th>\n",
              "      <th>order_for_place</th>\n",
              "      <th>place_type</th>\n",
              "      <th>state</th>\n",
              "      <th>new_confirmed</th>\n",
              "      <th>new_deaths</th>\n",
              "    </tr>\n",
              "  </thead>\n",
              "  <tbody>\n",
              "    <tr>\n",
              "      <th>1876473</th>\n",
              "      <td>NaN</td>\n",
              "      <td>42.0</td>\n",
              "      <td>2021-06-06</td>\n",
              "      <td>202123</td>\n",
              "      <td>7252502.0</td>\n",
              "      <td>7164788.0</td>\n",
              "      <td>False</td>\n",
              "      <td>False</td>\n",
              "      <td>984597</td>\n",
              "      <td>13575.96316</td>\n",
              "      <td>2021-06-06</td>\n",
              "      <td>0.0158</td>\n",
              "      <td>15605</td>\n",
              "      <td>452</td>\n",
              "      <td>state</td>\n",
              "      <td>SC</td>\n",
              "      <td>1264</td>\n",
              "      <td>33</td>\n",
              "    </tr>\n",
              "    <tr>\n",
              "      <th>1876770</th>\n",
              "      <td>NaN</td>\n",
              "      <td>42.0</td>\n",
              "      <td>2021-06-07</td>\n",
              "      <td>202123</td>\n",
              "      <td>7252502.0</td>\n",
              "      <td>7164788.0</td>\n",
              "      <td>False</td>\n",
              "      <td>False</td>\n",
              "      <td>986249</td>\n",
              "      <td>13598.74151</td>\n",
              "      <td>2021-06-07</td>\n",
              "      <td>0.0159</td>\n",
              "      <td>15663</td>\n",
              "      <td>453</td>\n",
              "      <td>state</td>\n",
              "      <td>SC</td>\n",
              "      <td>1652</td>\n",
              "      <td>58</td>\n",
              "    </tr>\n",
              "    <tr>\n",
              "      <th>1877067</th>\n",
              "      <td>NaN</td>\n",
              "      <td>42.0</td>\n",
              "      <td>2021-06-08</td>\n",
              "      <td>202123</td>\n",
              "      <td>7252502.0</td>\n",
              "      <td>7164788.0</td>\n",
              "      <td>False</td>\n",
              "      <td>False</td>\n",
              "      <td>987848</td>\n",
              "      <td>13620.78907</td>\n",
              "      <td>2021-06-08</td>\n",
              "      <td>0.0159</td>\n",
              "      <td>15747</td>\n",
              "      <td>454</td>\n",
              "      <td>state</td>\n",
              "      <td>SC</td>\n",
              "      <td>1599</td>\n",
              "      <td>84</td>\n",
              "    </tr>\n",
              "    <tr>\n",
              "      <th>1877364</th>\n",
              "      <td>NaN</td>\n",
              "      <td>42.0</td>\n",
              "      <td>2021-06-09</td>\n",
              "      <td>202123</td>\n",
              "      <td>7252502.0</td>\n",
              "      <td>7164788.0</td>\n",
              "      <td>False</td>\n",
              "      <td>False</td>\n",
              "      <td>994125</td>\n",
              "      <td>13707.33852</td>\n",
              "      <td>2021-06-09</td>\n",
              "      <td>0.0159</td>\n",
              "      <td>15798</td>\n",
              "      <td>455</td>\n",
              "      <td>state</td>\n",
              "      <td>SC</td>\n",
              "      <td>6277</td>\n",
              "      <td>51</td>\n",
              "    </tr>\n",
              "    <tr>\n",
              "      <th>1877661</th>\n",
              "      <td>NaN</td>\n",
              "      <td>42.0</td>\n",
              "      <td>2021-06-10</td>\n",
              "      <td>202123</td>\n",
              "      <td>7252502.0</td>\n",
              "      <td>7164788.0</td>\n",
              "      <td>True</td>\n",
              "      <td>False</td>\n",
              "      <td>997965</td>\n",
              "      <td>13760.28576</td>\n",
              "      <td>2021-06-10</td>\n",
              "      <td>0.0159</td>\n",
              "      <td>15843</td>\n",
              "      <td>456</td>\n",
              "      <td>state</td>\n",
              "      <td>SC</td>\n",
              "      <td>3840</td>\n",
              "      <td>45</td>\n",
              "    </tr>\n",
              "  </tbody>\n",
              "</table>\n",
              "</div>"
            ],
            "text/plain": [
              "        city  city_ibge_code        date  epidemiological_week  \\\n",
              "1876473  NaN            42.0  2021-06-06                202123   \n",
              "1876770  NaN            42.0  2021-06-07                202123   \n",
              "1877067  NaN            42.0  2021-06-08                202123   \n",
              "1877364  NaN            42.0  2021-06-09                202123   \n",
              "1877661  NaN            42.0  2021-06-10                202123   \n",
              "\n",
              "         estimated_population  estimated_population_2019  is_last  \\\n",
              "1876473             7252502.0                  7164788.0    False   \n",
              "1876770             7252502.0                  7164788.0    False   \n",
              "1877067             7252502.0                  7164788.0    False   \n",
              "1877364             7252502.0                  7164788.0    False   \n",
              "1877661             7252502.0                  7164788.0     True   \n",
              "\n",
              "         is_repeated  last_available_confirmed  \\\n",
              "1876473        False                    984597   \n",
              "1876770        False                    986249   \n",
              "1877067        False                    987848   \n",
              "1877364        False                    994125   \n",
              "1877661        False                    997965   \n",
              "\n",
              "         last_available_confirmed_per_100k_inhabitants last_available_date  \\\n",
              "1876473                                    13575.96316          2021-06-06   \n",
              "1876770                                    13598.74151          2021-06-07   \n",
              "1877067                                    13620.78907          2021-06-08   \n",
              "1877364                                    13707.33852          2021-06-09   \n",
              "1877661                                    13760.28576          2021-06-10   \n",
              "\n",
              "         last_available_death_rate  last_available_deaths  order_for_place  \\\n",
              "1876473                     0.0158                  15605              452   \n",
              "1876770                     0.0159                  15663              453   \n",
              "1877067                     0.0159                  15747              454   \n",
              "1877364                     0.0159                  15798              455   \n",
              "1877661                     0.0159                  15843              456   \n",
              "\n",
              "        place_type state  new_confirmed  new_deaths  \n",
              "1876473      state    SC           1264          33  \n",
              "1876770      state    SC           1652          58  \n",
              "1877067      state    SC           1599          84  \n",
              "1877364      state    SC           6277          51  \n",
              "1877661      state    SC           3840          45  "
            ]
          },
          "execution_count": 9,
          "metadata": {},
          "output_type": "execute_result"
        }
      ],
      "source": [
        "dados.tail()"
      ]
    },
    {
      "cell_type": "code",
      "execution_count": null,
      "metadata": {
        "id": "jrVQID6c0HGP",
        "outputId": "7cce74ec-d4c0-4fc9-e635-e6d5b0ea3c79"
      },
      "outputs": [
        {
          "data": {
            "text/plain": [
              "Index(['city', 'city_ibge_code', 'date', 'epidemiological_week',\n",
              "       'estimated_population', 'estimated_population_2019', 'is_last',\n",
              "       'is_repeated', 'last_available_confirmed',\n",
              "       'last_available_confirmed_per_100k_inhabitants', 'last_available_date',\n",
              "       'last_available_death_rate', 'last_available_deaths', 'order_for_place',\n",
              "       'place_type', 'state', 'new_confirmed', 'new_deaths'],\n",
              "      dtype='object')"
            ]
          },
          "execution_count": 10,
          "metadata": {},
          "output_type": "execute_result"
        }
      ],
      "source": [
        "dados.columns"
      ]
    },
    {
      "cell_type": "code",
      "execution_count": null,
      "metadata": {
        "id": "8aUq_UUw0HGP"
      },
      "outputs": [],
      "source": [
        "dados = dados[['date','new_deaths']] # selecionando apenas as colunas que irei trabalhar "
      ]
    },
    {
      "cell_type": "code",
      "execution_count": null,
      "metadata": {
        "id": "NA6bkOF50HGQ",
        "outputId": "9ff9848c-8af8-4d96-958b-e6dfb295933d"
      },
      "outputs": [
        {
          "data": {
            "text/html": [
              "<div>\n",
              "<style scoped>\n",
              "    .dataframe tbody tr th:only-of-type {\n",
              "        vertical-align: middle;\n",
              "    }\n",
              "\n",
              "    .dataframe tbody tr th {\n",
              "        vertical-align: top;\n",
              "    }\n",
              "\n",
              "    .dataframe thead th {\n",
              "        text-align: right;\n",
              "    }\n",
              "</style>\n",
              "<table border=\"1\" class=\"dataframe\">\n",
              "  <thead>\n",
              "    <tr style=\"text-align: right;\">\n",
              "      <th></th>\n",
              "      <th>date</th>\n",
              "      <th>new_deaths</th>\n",
              "    </tr>\n",
              "  </thead>\n",
              "  <tbody>\n",
              "    <tr>\n",
              "      <th>1759148</th>\n",
              "      <td>2020-03-12</td>\n",
              "      <td>0</td>\n",
              "    </tr>\n",
              "    <tr>\n",
              "      <th>1759151</th>\n",
              "      <td>2020-03-13</td>\n",
              "      <td>0</td>\n",
              "    </tr>\n",
              "    <tr>\n",
              "      <th>1759155</th>\n",
              "      <td>2020-03-14</td>\n",
              "      <td>0</td>\n",
              "    </tr>\n",
              "    <tr>\n",
              "      <th>1759160</th>\n",
              "      <td>2020-03-15</td>\n",
              "      <td>0</td>\n",
              "    </tr>\n",
              "    <tr>\n",
              "      <th>1759165</th>\n",
              "      <td>2020-03-16</td>\n",
              "      <td>0</td>\n",
              "    </tr>\n",
              "  </tbody>\n",
              "</table>\n",
              "</div>"
            ],
            "text/plain": [
              "               date  new_deaths\n",
              "1759148  2020-03-12           0\n",
              "1759151  2020-03-13           0\n",
              "1759155  2020-03-14           0\n",
              "1759160  2020-03-15           0\n",
              "1759165  2020-03-16           0"
            ]
          },
          "execution_count": 12,
          "metadata": {},
          "output_type": "execute_result"
        }
      ],
      "source": [
        "dados.head()"
      ]
    },
    {
      "cell_type": "code",
      "execution_count": null,
      "metadata": {
        "id": "8PvEiVC80HGQ",
        "outputId": "71208a2c-15f0-4cb5-9294-20995a83bbad"
      },
      "outputs": [
        {
          "data": {
            "text/html": [
              "<div>\n",
              "<style scoped>\n",
              "    .dataframe tbody tr th:only-of-type {\n",
              "        vertical-align: middle;\n",
              "    }\n",
              "\n",
              "    .dataframe tbody tr th {\n",
              "        vertical-align: top;\n",
              "    }\n",
              "\n",
              "    .dataframe thead th {\n",
              "        text-align: right;\n",
              "    }\n",
              "</style>\n",
              "<table border=\"1\" class=\"dataframe\">\n",
              "  <thead>\n",
              "    <tr style=\"text-align: right;\">\n",
              "      <th></th>\n",
              "      <th>date</th>\n",
              "      <th>new_deaths</th>\n",
              "    </tr>\n",
              "  </thead>\n",
              "  <tbody>\n",
              "    <tr>\n",
              "      <th>1876473</th>\n",
              "      <td>2021-06-06</td>\n",
              "      <td>33</td>\n",
              "    </tr>\n",
              "    <tr>\n",
              "      <th>1876770</th>\n",
              "      <td>2021-06-07</td>\n",
              "      <td>58</td>\n",
              "    </tr>\n",
              "    <tr>\n",
              "      <th>1877067</th>\n",
              "      <td>2021-06-08</td>\n",
              "      <td>84</td>\n",
              "    </tr>\n",
              "    <tr>\n",
              "      <th>1877364</th>\n",
              "      <td>2021-06-09</td>\n",
              "      <td>51</td>\n",
              "    </tr>\n",
              "    <tr>\n",
              "      <th>1877661</th>\n",
              "      <td>2021-06-10</td>\n",
              "      <td>45</td>\n",
              "    </tr>\n",
              "  </tbody>\n",
              "</table>\n",
              "</div>"
            ],
            "text/plain": [
              "               date  new_deaths\n",
              "1876473  2021-06-06          33\n",
              "1876770  2021-06-07          58\n",
              "1877067  2021-06-08          84\n",
              "1877364  2021-06-09          51\n",
              "1877661  2021-06-10          45"
            ]
          },
          "execution_count": 13,
          "metadata": {},
          "output_type": "execute_result"
        }
      ],
      "source": [
        "dados.tail()"
      ]
    },
    {
      "cell_type": "code",
      "execution_count": null,
      "metadata": {
        "id": "48uIxTsW0HGR"
      },
      "outputs": [],
      "source": [
        "dados.columns = ['data','novasMortes'] # renomeando as colunas "
      ]
    },
    {
      "cell_type": "code",
      "execution_count": null,
      "metadata": {
        "id": "4doG2SWx0HGR",
        "outputId": "a9203237-76dd-4954-e763-367d87641c89"
      },
      "outputs": [
        {
          "data": {
            "text/html": [
              "<div>\n",
              "<style scoped>\n",
              "    .dataframe tbody tr th:only-of-type {\n",
              "        vertical-align: middle;\n",
              "    }\n",
              "\n",
              "    .dataframe tbody tr th {\n",
              "        vertical-align: top;\n",
              "    }\n",
              "\n",
              "    .dataframe thead th {\n",
              "        text-align: right;\n",
              "    }\n",
              "</style>\n",
              "<table border=\"1\" class=\"dataframe\">\n",
              "  <thead>\n",
              "    <tr style=\"text-align: right;\">\n",
              "      <th></th>\n",
              "      <th>data</th>\n",
              "      <th>novasMortes</th>\n",
              "    </tr>\n",
              "  </thead>\n",
              "  <tbody>\n",
              "    <tr>\n",
              "      <th>1876473</th>\n",
              "      <td>2021-06-06</td>\n",
              "      <td>33</td>\n",
              "    </tr>\n",
              "    <tr>\n",
              "      <th>1876770</th>\n",
              "      <td>2021-06-07</td>\n",
              "      <td>58</td>\n",
              "    </tr>\n",
              "    <tr>\n",
              "      <th>1877067</th>\n",
              "      <td>2021-06-08</td>\n",
              "      <td>84</td>\n",
              "    </tr>\n",
              "    <tr>\n",
              "      <th>1877364</th>\n",
              "      <td>2021-06-09</td>\n",
              "      <td>51</td>\n",
              "    </tr>\n",
              "    <tr>\n",
              "      <th>1877661</th>\n",
              "      <td>2021-06-10</td>\n",
              "      <td>45</td>\n",
              "    </tr>\n",
              "  </tbody>\n",
              "</table>\n",
              "</div>"
            ],
            "text/plain": [
              "               data  novasMortes\n",
              "1876473  2021-06-06           33\n",
              "1876770  2021-06-07           58\n",
              "1877067  2021-06-08           84\n",
              "1877364  2021-06-09           51\n",
              "1877661  2021-06-10           45"
            ]
          },
          "execution_count": 15,
          "metadata": {},
          "output_type": "execute_result"
        }
      ],
      "source": [
        "dados.tail()"
      ]
    },
    {
      "cell_type": "code",
      "execution_count": null,
      "metadata": {
        "id": "apWsVG_X0HGS",
        "outputId": "d27a575c-0315-44c6-8bb2-1fc7bb761ca6"
      },
      "outputs": [
        {
          "name": "stdout",
          "output_type": "stream",
          "text": [
            "<class 'pandas.core.frame.DataFrame'>\n",
            "Int64Index: 456 entries, 1759148 to 1877661\n",
            "Data columns (total 2 columns):\n",
            " #   Column       Non-Null Count  Dtype \n",
            "---  ------       --------------  ----- \n",
            " 0   data         456 non-null    object\n",
            " 1   novasMortes  456 non-null    int64 \n",
            "dtypes: int64(1), object(1)\n",
            "memory usage: 10.7+ KB\n"
          ]
        }
      ],
      "source": [
        "dados.info() # informação dos dados "
      ]
    },
    {
      "cell_type": "code",
      "execution_count": null,
      "metadata": {
        "id": "6RCFqr_q0HGT"
      },
      "outputs": [],
      "source": [
        "# data esta no formato objeto(String)"
      ]
    },
    {
      "cell_type": "code",
      "execution_count": null,
      "metadata": {
        "id": "7UfImmvW0HGT",
        "outputId": "c853ba4c-713f-42e4-b131-6aad4d707adc"
      },
      "outputs": [
        {
          "data": {
            "text/plain": [
              "456"
            ]
          },
          "execution_count": 18,
          "metadata": {},
          "output_type": "execute_result"
        }
      ],
      "source": [
        "len(dados) # quantidade de registros na tabela"
      ]
    },
    {
      "cell_type": "code",
      "execution_count": null,
      "metadata": {
        "id": "Azj8mNn_0HGU",
        "outputId": "909f749e-5574-4b8c-c584-a84ddd8712c7"
      },
      "outputs": [
        {
          "data": {
            "text/plain": [
              "456"
            ]
          },
          "execution_count": 19,
          "metadata": {},
          "output_type": "execute_result"
        }
      ],
      "source": [
        "len(dados['data'].unique()) #não tem redundancia das datas, não tem datas repetidas."
      ]
    },
    {
      "cell_type": "code",
      "execution_count": null,
      "metadata": {
        "id": "X2qviD1K0HGV"
      },
      "outputs": [],
      "source": [
        "dados['data'] = pd.to_datetime(dados['data'])  # transformando a coluna data em formato datetime "
      ]
    },
    {
      "cell_type": "code",
      "execution_count": null,
      "metadata": {
        "id": "z9E8_7Yy0HGV",
        "outputId": "25025fb3-2669-493a-a07f-b9d586a57f6c"
      },
      "outputs": [
        {
          "name": "stdout",
          "output_type": "stream",
          "text": [
            "<class 'pandas.core.frame.DataFrame'>\n",
            "Int64Index: 456 entries, 1759148 to 1877661\n",
            "Data columns (total 2 columns):\n",
            " #   Column       Non-Null Count  Dtype         \n",
            "---  ------       --------------  -----         \n",
            " 0   data         456 non-null    datetime64[ns]\n",
            " 1   novasMortes  456 non-null    int64         \n",
            "dtypes: datetime64[ns](1), int64(1)\n",
            "memory usage: 10.7 KB\n"
          ]
        }
      ],
      "source": [
        "dados.info() # verificando a transformação da coluna"
      ]
    },
    {
      "cell_type": "code",
      "execution_count": null,
      "metadata": {
        "id": "sSf8uU9F0HGW"
      },
      "outputs": [],
      "source": [
        "dados.set_index('data', inplace=True) # transformando a coluna data no index da tabela"
      ]
    },
    {
      "cell_type": "code",
      "execution_count": null,
      "metadata": {
        "id": "RzrjCVMk0HGW",
        "outputId": "8ce18136-0e98-4e43-c7e4-b063dc6604f1"
      },
      "outputs": [
        {
          "name": "stdout",
          "output_type": "stream",
          "text": [
            "<class 'pandas.core.frame.DataFrame'>\n",
            "DatetimeIndex: 456 entries, 2020-03-12 to 2021-06-10\n",
            "Data columns (total 1 columns):\n",
            " #   Column       Non-Null Count  Dtype\n",
            "---  ------       --------------  -----\n",
            " 0   novasMortes  456 non-null    int64\n",
            "dtypes: int64(1)\n",
            "memory usage: 7.1 KB\n"
          ]
        }
      ],
      "source": [
        "dados.info()"
      ]
    },
    {
      "cell_type": "code",
      "execution_count": null,
      "metadata": {
        "id": "urJ-oLpK0HGW",
        "outputId": "65a75a8e-8a4c-45bf-9efa-bdc0c9cd4187"
      },
      "outputs": [
        {
          "data": {
            "text/html": [
              "<div>\n",
              "<style scoped>\n",
              "    .dataframe tbody tr th:only-of-type {\n",
              "        vertical-align: middle;\n",
              "    }\n",
              "\n",
              "    .dataframe tbody tr th {\n",
              "        vertical-align: top;\n",
              "    }\n",
              "\n",
              "    .dataframe thead th {\n",
              "        text-align: right;\n",
              "    }\n",
              "</style>\n",
              "<table border=\"1\" class=\"dataframe\">\n",
              "  <thead>\n",
              "    <tr style=\"text-align: right;\">\n",
              "      <th></th>\n",
              "      <th>novasMortes</th>\n",
              "    </tr>\n",
              "    <tr>\n",
              "      <th>data</th>\n",
              "      <th></th>\n",
              "    </tr>\n",
              "  </thead>\n",
              "  <tbody>\n",
              "    <tr>\n",
              "      <th>2020-03-12</th>\n",
              "      <td>0</td>\n",
              "    </tr>\n",
              "    <tr>\n",
              "      <th>2020-03-13</th>\n",
              "      <td>0</td>\n",
              "    </tr>\n",
              "  </tbody>\n",
              "</table>\n",
              "</div>"
            ],
            "text/plain": [
              "            novasMortes\n",
              "data                   \n",
              "2020-03-12            0\n",
              "2020-03-13            0"
            ]
          },
          "execution_count": 25,
          "metadata": {},
          "output_type": "execute_result"
        }
      ],
      "source": [
        "dados.head(2)"
      ]
    },
    {
      "cell_type": "code",
      "execution_count": null,
      "metadata": {
        "id": "C-W9X0e90HGX",
        "outputId": "3ede4282-dd9e-4f1f-bf5f-1720544f4a1c"
      },
      "outputs": [
        {
          "data": {
            "text/html": [
              "<div>\n",
              "<style scoped>\n",
              "    .dataframe tbody tr th:only-of-type {\n",
              "        vertical-align: middle;\n",
              "    }\n",
              "\n",
              "    .dataframe tbody tr th {\n",
              "        vertical-align: top;\n",
              "    }\n",
              "\n",
              "    .dataframe thead th {\n",
              "        text-align: right;\n",
              "    }\n",
              "</style>\n",
              "<table border=\"1\" class=\"dataframe\">\n",
              "  <thead>\n",
              "    <tr style=\"text-align: right;\">\n",
              "      <th></th>\n",
              "      <th>novasMortes</th>\n",
              "    </tr>\n",
              "    <tr>\n",
              "      <th>data</th>\n",
              "      <th></th>\n",
              "    </tr>\n",
              "  </thead>\n",
              "  <tbody>\n",
              "    <tr>\n",
              "      <th>2021-06-09</th>\n",
              "      <td>51</td>\n",
              "    </tr>\n",
              "    <tr>\n",
              "      <th>2021-06-10</th>\n",
              "      <td>45</td>\n",
              "    </tr>\n",
              "  </tbody>\n",
              "</table>\n",
              "</div>"
            ],
            "text/plain": [
              "            novasMortes\n",
              "data                   \n",
              "2021-06-09           51\n",
              "2021-06-10           45"
            ]
          },
          "execution_count": 26,
          "metadata": {},
          "output_type": "execute_result"
        }
      ],
      "source": [
        "dados.tail(2)"
      ]
    },
    {
      "cell_type": "code",
      "execution_count": null,
      "metadata": {
        "id": "jiKbiWeg0HGX",
        "outputId": "bc4e9b05-7637-438d-f97d-66b0bf420ddf"
      },
      "outputs": [
        {
          "data": {
            "image/png": "[encoded data removed]",
            "text/plain": [
              "<Figure size 864x432 with 1 Axes>"
            ]
          },
          "metadata": {
            "needs_background": "light"
          },
          "output_type": "display_data"
        }
      ],
      "source": [
        "plt.figure(figsize=(12,6))\n",
        "dados['novasMortes'].plot(color='blue')\n",
        "plt.ylabel('MORTES')\n",
        "plt.xlabel('DATA')\n",
        "plt.title('Mortes Diáras relacionada ao COVID-19 no estado de Santa Catarina')\n",
        "plt.show()"
      ]
    },
    {
      "cell_type": "code",
      "execution_count": null,
      "metadata": {
        "id": "YGQPWbsV0HGX"
      },
      "outputs": [],
      "source": [
        "dados = dados[128:len(dados)]"
      ]
    },
    {
      "cell_type": "code",
      "execution_count": null,
      "metadata": {
        "id": "YyqKokEU0HGY",
        "outputId": "5f42a2c1-353b-4407-d90f-ac35a1c039d1"
      },
      "outputs": [
        {
          "data": {
            "image/png": "[encoded data removed]",
            "text/plain": [
              "<Figure size 864x432 with 1 Axes>"
            ]
          },
          "metadata": {
            "needs_background": "light"
          },
          "output_type": "display_data"
        }
      ],
      "source": [
        "# mortes diarias em SC\n",
        "plt.figure(figsize=(12,6))\n",
        "dados['novasMortes'].plot(color='blue')\n",
        "plt.ylabel('MORTES')\n",
        "plt.xlabel('DATA')\n",
        "plt.title('Mortes diára relacionada ao COVID-19 no estado de Santa Catarina')\n",
        "plt.show()"
      ]
    },
    {
      "cell_type": "markdown",
      "metadata": {
        "id": "LHN4c63w0HGY"
      },
      "source": [
        "# # Graficos de auto correlação e correlação parcial"
      ]
    },
    {
      "cell_type": "code",
      "execution_count": null,
      "metadata": {
        "id": "3Qe5J8_D0HGY"
      },
      "outputs": [],
      "source": [
        "from statsmodels.graphics.tsaplots import plot_acf, plot_pacf"
      ]
    },
    {
      "cell_type": "code",
      "execution_count": null,
      "metadata": {
        "id": "c0VSRsT30HGZ",
        "outputId": "af40bd7b-74fc-4faf-fb0d-4cf904927ccc"
      },
      "outputs": [
        {
          "data": {
            "image/png": "[encoded data removed]",
            "text/plain": [
              "<Figure size 432x288 with 1 Axes>"
            ]
          },
          "metadata": {
            "needs_background": "light"
          },
          "output_type": "display_data"
        }
      ],
      "source": [
        "plot_acf(dados['novasMortes'], lags=50, color='blue', title='Autocorrelação') # grafico de auto correlação\n",
        "plt.show()"
      ]
    },
    {
      "cell_type": "code",
      "execution_count": null,
      "metadata": {
        "id": "se3LdNk30HGZ",
        "outputId": "2dbe5f9c-f93a-4784-d60d-53d291899cfb"
      },
      "outputs": [
        {
          "data": {
            "image/png": "[encoded data removed]",
            "text/plain": [
              "<Figure size 432x288 with 1 Axes>"
            ]
          },
          "metadata": {
            "needs_background": "light"
          },
          "output_type": "display_data"
        }
      ],
      "source": [
        "plot_pacf(dados['novasMortes'], lags=50,color='blue', title='Autocorrelação parcial') # grafico de correlação parcial\n",
        "plt.show()"
      ]
    },
    {
      "cell_type": "markdown",
      "metadata": {
        "id": "8Lk6lvIU0HGZ"
      },
      "source": [
        "# # Decomposição da Série Temporal"
      ]
    },
    {
      "cell_type": "code",
      "execution_count": null,
      "metadata": {
        "id": "IKKPGbjU0HGa"
      },
      "outputs": [],
      "source": [
        "from statsmodels.tsa.seasonal import seasonal_decompose # decompondo a série temporal"
      ]
    },
    {
      "cell_type": "code",
      "execution_count": null,
      "metadata": {
        "id": "EYo2vHUO0HGa"
      },
      "outputs": [],
      "source": [
        "result = seasonal_decompose(dados['novasMortes'], model='additive')\n",
        "plt.rcParams['figure.figsize'] = 10, 5\n",
        "#result.plot()\n",
        "#plt.show()"
      ]
    },
    {
      "cell_type": "code",
      "execution_count": null,
      "metadata": {
        "id": "VYDGkbEm0HGb",
        "outputId": "96c52076-df8c-4448-9032-a1c75631d16a"
      },
      "outputs": [
        {
          "data": {
            "image/png": "[encoded data removed]",
            "text/plain": [
              "<Figure size 864x576 with 4 Axes>"
            ]
          },
          "metadata": {
            "needs_background": "light"
          },
          "output_type": "display_data"
        }
      ],
      "source": [
        "fig, axes = plt.subplots(4, 1,figsize=(12,8), sharex=False)\n",
        "\n",
        "result.observed.plot(ax=axes[0], legend=False, color= 'blue')\n",
        "axes[0].set_ylabel('Original')\n",
        "axes[0].set_xlabel('')\n",
        "result.trend.plot(ax=axes[1], legend=False, color='blue')\n",
        "axes[1].set_ylabel('Tendência')\n",
        "axes[1].set_xlabel('')\n",
        "result.seasonal.plot(ax=axes[2], legend=False, color='blue')\n",
        "axes[2].set_ylabel('Sazonalidade')\n",
        "axes[2].set_xlabel('')\n",
        "result.resid.plot(ax=axes[3], legend=False, color='blue')\n",
        "axes[3].set_ylabel('Resíduo')\n",
        "axes[3].set_xlabel('')\n",
        "plt.tight_layout()\n",
        "plt.show()"
      ]
    },
    {
      "cell_type": "code",
      "execution_count": null,
      "metadata": {
        "id": "4X4HfK5p0HGb",
        "outputId": "35fdef72-c814-4d4a-ab40-9cc106ac6a14"
      },
      "outputs": [
        {
          "data": {
            "text/plain": [
              "<AxesSubplot:xlabel='data'>"
            ]
          },
          "execution_count": 36,
          "metadata": {},
          "output_type": "execute_result"
        },
        {
          "data": {
            "image/png": "[encoded data removed]",
            "text/plain": [
              "<Figure size 720x360 with 1 Axes>"
            ]
          },
          "metadata": {
            "needs_background": "light"
          },
          "output_type": "display_data"
        }
      ],
      "source": [
        "plt.figure(figsize=(10,5))\n",
        "result.seasonal[:21].plot(marker='o')"
      ]
    },
    {
      "cell_type": "markdown",
      "metadata": {
        "id": "zqo8V0Ki0HGc"
      },
      "source": [
        "# # Teste de Estacionaridade - AdFuller"
      ]
    },
    {
      "cell_type": "code",
      "execution_count": null,
      "metadata": {
        "id": "5lGHVlDy0HGc"
      },
      "outputs": [],
      "source": [
        "from statsmodels.tsa.stattools import adfuller # teste para verificar se a série tem estacionaridade"
      ]
    },
    {
      "cell_type": "code",
      "execution_count": null,
      "metadata": {
        "id": "htX7kcwk0HGd"
      },
      "outputs": [],
      "source": [
        "def testeEstacionariedade(tabela,coluna):\n",
        "    X = tabela[coluna]\n",
        "    result = adfuller(X)\n",
        "    result\n",
        "    print('ADF Estatíticas: %f' % result[0])\n",
        "    print('Valor de P: %f' % result[1])\n",
        "    print('Valores Críticos:')\n",
        "    for key, value in result[4].items():\n",
        "       print('\\t%s: %.3f' % (key, value))"
      ]
    },
    {
      "cell_type": "code",
      "execution_count": null,
      "metadata": {
        "id": "telYToBr0HGd",
        "outputId": "8283219c-1b7c-43bc-8703-3e2d003f70bf"
      },
      "outputs": [
        {
          "name": "stdout",
          "output_type": "stream",
          "text": [
            "ADF Estatíticas: -2.198146\n",
            "Valor de P: 0.206919\n",
            "Valores Críticos:\n",
            "\t1%: -3.452\n",
            "\t5%: -2.871\n",
            "\t10%: -2.572\n"
          ]
        }
      ],
      "source": [
        "testeEstacionariedade(dados,'novasMortes') # as mortes por covid não são estacionarias"
      ]
    },
    {
      "cell_type": "markdown",
      "metadata": {
        "id": "ZJ6uxYNc0HGd"
      },
      "source": [
        "# # Seperando Tabela Treino e Teste"
      ]
    },
    {
      "cell_type": "code",
      "execution_count": null,
      "metadata": {
        "id": "e6K76ghb0HGe",
        "outputId": "0da5f3f5-c2b7-4a37-af16-8faa4b55a7c0"
      },
      "outputs": [
        {
          "data": {
            "text/html": [
              "<div>\n",
              "<style scoped>\n",
              "    .dataframe tbody tr th:only-of-type {\n",
              "        vertical-align: middle;\n",
              "    }\n",
              "\n",
              "    .dataframe tbody tr th {\n",
              "        vertical-align: top;\n",
              "    }\n",
              "\n",
              "    .dataframe thead th {\n",
              "        text-align: right;\n",
              "    }\n",
              "</style>\n",
              "<table border=\"1\" class=\"dataframe\">\n",
              "  <thead>\n",
              "    <tr style=\"text-align: right;\">\n",
              "      <th></th>\n",
              "      <th>novasMortes</th>\n",
              "    </tr>\n",
              "    <tr>\n",
              "      <th>data</th>\n",
              "      <th></th>\n",
              "    </tr>\n",
              "  </thead>\n",
              "  <tbody>\n",
              "    <tr>\n",
              "      <th>2020-07-18</th>\n",
              "      <td>16</td>\n",
              "    </tr>\n",
              "    <tr>\n",
              "      <th>2020-07-19</th>\n",
              "      <td>23</td>\n",
              "    </tr>\n",
              "    <tr>\n",
              "      <th>2020-07-20</th>\n",
              "      <td>9</td>\n",
              "    </tr>\n",
              "    <tr>\n",
              "      <th>2020-07-21</th>\n",
              "      <td>44</td>\n",
              "    </tr>\n",
              "    <tr>\n",
              "      <th>2020-07-22</th>\n",
              "      <td>27</td>\n",
              "    </tr>\n",
              "    <tr>\n",
              "      <th>...</th>\n",
              "      <td>...</td>\n",
              "    </tr>\n",
              "    <tr>\n",
              "      <th>2021-06-06</th>\n",
              "      <td>33</td>\n",
              "    </tr>\n",
              "    <tr>\n",
              "      <th>2021-06-07</th>\n",
              "      <td>58</td>\n",
              "    </tr>\n",
              "    <tr>\n",
              "      <th>2021-06-08</th>\n",
              "      <td>84</td>\n",
              "    </tr>\n",
              "    <tr>\n",
              "      <th>2021-06-09</th>\n",
              "      <td>51</td>\n",
              "    </tr>\n",
              "    <tr>\n",
              "      <th>2021-06-10</th>\n",
              "      <td>45</td>\n",
              "    </tr>\n",
              "  </tbody>\n",
              "</table>\n",
              "<p>328 rows × 1 columns</p>\n",
              "</div>"
            ],
            "text/plain": [
              "            novasMortes\n",
              "data                   \n",
              "2020-07-18           16\n",
              "2020-07-19           23\n",
              "2020-07-20            9\n",
              "2020-07-21           44\n",
              "2020-07-22           27\n",
              "...                 ...\n",
              "2021-06-06           33\n",
              "2021-06-07           58\n",
              "2021-06-08           84\n",
              "2021-06-09           51\n",
              "2021-06-10           45\n",
              "\n",
              "[328 rows x 1 columns]"
            ]
          },
          "execution_count": 40,
          "metadata": {},
          "output_type": "execute_result"
        }
      ],
      "source": [
        "dados"
      ]
    },
    {
      "cell_type": "code",
      "execution_count": null,
      "metadata": {
        "id": "OkT8J6fM0HGe"
      },
      "outputs": [],
      "source": [
        "aux = 7\n",
        "train =  dados[:len(dados)-aux]\n",
        "test  =  dados[len(dados)-aux:]\n",
        "tabela_previsoes = test.copy()\n",
        "dadosM = dados.copy()"
      ]
    },
    {
      "cell_type": "code",
      "execution_count": null,
      "metadata": {
        "id": "tRefXC_G0HGe",
        "outputId": "9e9b1bf3-7e5f-43bb-bf1d-df9b4fb789b9"
      },
      "outputs": [
        {
          "data": {
            "image/png": "[encoded data removed]",
            "text/plain": [
              "<Figure size 864x432 with 1 Axes>"
            ]
          },
          "metadata": {
            "needs_background": "light"
          },
          "output_type": "display_data"
        }
      ],
      "source": [
        "plt.figure(figsize=(12,6))\n",
        "plt.plot(train, label='Dados Treino', color='blue')\n",
        "plt.plot(test,  label='Dados Teste', color='black')\n",
        "plt.ylabel('MORTES')\n",
        "plt.xlabel('DATA')\n",
        "plt.title('Dados de treino para previsão de Mortes diára relacionada ao COVID-19 no estado de Santa Catarina')\n",
        "plt.legend()\n",
        "plt.show()"
      ]
    },
    {
      "cell_type": "code",
      "execution_count": null,
      "metadata": {
        "id": "XFTsF_4O0HGf",
        "outputId": "441d580e-0f9b-4611-d45e-bf2bd9f8a744"
      },
      "outputs": [
        {
          "data": {
            "image/png": "[encoded data removed]",
            "text/plain": [
              "<Figure size 864x432 with 1 Axes>"
            ]
          },
          "metadata": {
            "needs_background": "light"
          },
          "output_type": "display_data"
        }
      ],
      "source": [
        "plt.figure(figsize=(12,6))\n",
        "plt.plot(test,  label='Dados Teste', color='black', marker='o')\n",
        "plt.ylabel('MORTES')\n",
        "plt.xlabel('DATA')\n",
        "plt.title('Dados de teste para previsão de Mortes diára relacionada ao COVID-19 no estado de Santa Catarina')\n",
        "plt.legend()\n",
        "plt.show()"
      ]
    },
    {
      "cell_type": "code",
      "execution_count": null,
      "metadata": {
        "id": "iFnnJYsu0HGf",
        "outputId": "da4da77a-93b9-41e6-e3d2-563d3fcdff92"
      },
      "outputs": [
        {
          "data": {
            "text/html": [
              "<div>\n",
              "<style scoped>\n",
              "    .dataframe tbody tr th:only-of-type {\n",
              "        vertical-align: middle;\n",
              "    }\n",
              "\n",
              "    .dataframe tbody tr th {\n",
              "        vertical-align: top;\n",
              "    }\n",
              "\n",
              "    .dataframe thead th {\n",
              "        text-align: right;\n",
              "    }\n",
              "</style>\n",
              "<table border=\"1\" class=\"dataframe\">\n",
              "  <thead>\n",
              "    <tr style=\"text-align: right;\">\n",
              "      <th></th>\n",
              "      <th>novasMortes</th>\n",
              "    </tr>\n",
              "    <tr>\n",
              "      <th>data</th>\n",
              "      <th></th>\n",
              "    </tr>\n",
              "  </thead>\n",
              "  <tbody>\n",
              "    <tr>\n",
              "      <th>2020-07-18</th>\n",
              "      <td>16</td>\n",
              "    </tr>\n",
              "    <tr>\n",
              "      <th>2020-07-19</th>\n",
              "      <td>23</td>\n",
              "    </tr>\n",
              "    <tr>\n",
              "      <th>2020-07-20</th>\n",
              "      <td>9</td>\n",
              "    </tr>\n",
              "    <tr>\n",
              "      <th>2020-07-21</th>\n",
              "      <td>44</td>\n",
              "    </tr>\n",
              "    <tr>\n",
              "      <th>2020-07-22</th>\n",
              "      <td>27</td>\n",
              "    </tr>\n",
              "    <tr>\n",
              "      <th>...</th>\n",
              "      <td>...</td>\n",
              "    </tr>\n",
              "    <tr>\n",
              "      <th>2021-05-30</th>\n",
              "      <td>37</td>\n",
              "    </tr>\n",
              "    <tr>\n",
              "      <th>2021-05-31</th>\n",
              "      <td>65</td>\n",
              "    </tr>\n",
              "    <tr>\n",
              "      <th>2021-06-01</th>\n",
              "      <td>78</td>\n",
              "    </tr>\n",
              "    <tr>\n",
              "      <th>2021-06-02</th>\n",
              "      <td>63</td>\n",
              "    </tr>\n",
              "    <tr>\n",
              "      <th>2021-06-03</th>\n",
              "      <td>44</td>\n",
              "    </tr>\n",
              "  </tbody>\n",
              "</table>\n",
              "<p>321 rows × 1 columns</p>\n",
              "</div>"
            ],
            "text/plain": [
              "            novasMortes\n",
              "data                   \n",
              "2020-07-18           16\n",
              "2020-07-19           23\n",
              "2020-07-20            9\n",
              "2020-07-21           44\n",
              "2020-07-22           27\n",
              "...                 ...\n",
              "2021-05-30           37\n",
              "2021-05-31           65\n",
              "2021-06-01           78\n",
              "2021-06-02           63\n",
              "2021-06-03           44\n",
              "\n",
              "[321 rows x 1 columns]"
            ]
          },
          "execution_count": 44,
          "metadata": {},
          "output_type": "execute_result"
        }
      ],
      "source": [
        "train"
      ]
    },
    {
      "cell_type": "code",
      "execution_count": null,
      "metadata": {
        "id": "rwSX5xa00HGf",
        "outputId": "48e08818-de32-4ea9-ec6c-44d76d23d8b9"
      },
      "outputs": [
        {
          "data": {
            "text/html": [
              "<div>\n",
              "<style scoped>\n",
              "    .dataframe tbody tr th:only-of-type {\n",
              "        vertical-align: middle;\n",
              "    }\n",
              "\n",
              "    .dataframe tbody tr th {\n",
              "        vertical-align: top;\n",
              "    }\n",
              "\n",
              "    .dataframe thead th {\n",
              "        text-align: right;\n",
              "    }\n",
              "</style>\n",
              "<table border=\"1\" class=\"dataframe\">\n",
              "  <thead>\n",
              "    <tr style=\"text-align: right;\">\n",
              "      <th></th>\n",
              "      <th>novasMortes</th>\n",
              "    </tr>\n",
              "    <tr>\n",
              "      <th>data</th>\n",
              "      <th></th>\n",
              "    </tr>\n",
              "  </thead>\n",
              "  <tbody>\n",
              "    <tr>\n",
              "      <th>2021-06-04</th>\n",
              "      <td>67</td>\n",
              "    </tr>\n",
              "    <tr>\n",
              "      <th>2021-06-05</th>\n",
              "      <td>44</td>\n",
              "    </tr>\n",
              "    <tr>\n",
              "      <th>2021-06-06</th>\n",
              "      <td>33</td>\n",
              "    </tr>\n",
              "    <tr>\n",
              "      <th>2021-06-07</th>\n",
              "      <td>58</td>\n",
              "    </tr>\n",
              "    <tr>\n",
              "      <th>2021-06-08</th>\n",
              "      <td>84</td>\n",
              "    </tr>\n",
              "    <tr>\n",
              "      <th>2021-06-09</th>\n",
              "      <td>51</td>\n",
              "    </tr>\n",
              "    <tr>\n",
              "      <th>2021-06-10</th>\n",
              "      <td>45</td>\n",
              "    </tr>\n",
              "  </tbody>\n",
              "</table>\n",
              "</div>"
            ],
            "text/plain": [
              "            novasMortes\n",
              "data                   \n",
              "2021-06-04           67\n",
              "2021-06-05           44\n",
              "2021-06-06           33\n",
              "2021-06-07           58\n",
              "2021-06-08           84\n",
              "2021-06-09           51\n",
              "2021-06-10           45"
            ]
          },
          "execution_count": 45,
          "metadata": {},
          "output_type": "execute_result"
        }
      ],
      "source": [
        "test"
      ]
    },
    {
      "cell_type": "code",
      "execution_count": null,
      "metadata": {
        "id": "ofqJNF_o0HGf"
      },
      "outputs": [],
      "source": [
        "import math"
      ]
    },
    {
      "cell_type": "code",
      "execution_count": null,
      "metadata": {
        "id": "mI1X2doj0HGg"
      },
      "outputs": [],
      "source": [
        "def calcula_erro(reais,pred):\n",
        "    \n",
        "    real_pred = reais.assign( mortesPreditas = pred)\n",
        "    \n",
        "    real_pred['erro abs'] = abs(real_pred['novasMortes'] - real_pred['mortesPreditas'])\n",
        "    \n",
        "    real_pred['erro % abs'] = (real_pred['novasMortes'] - real_pred['mortesPreditas'])/real_pred['novasMortes']\n",
        "    real_pred['erro % abs'] = (real_pred['erro % abs'].round(4))*100\n",
        "    real_pred['erro % abs'] = abs(real_pred['erro % abs'])\n",
        "    \n",
        "    \n",
        "    real_pred['erro ^ 2'] =  ((real_pred['novasMortes'] - real_pred['mortesPreditas'])**2)\n",
        "    \n",
        "    mape = round((real_pred['erro % abs'].mean()),2)\n",
        "    rmse = round(math.sqrt((real_pred['erro ^ 2'].mean())),2)\n",
        "    mae = int(round((real_pred['erro abs'].mean()),0))\n",
        "    \n",
        "    return real_pred, mae, mape, rmse"
      ]
    },
    {
      "cell_type": "code",
      "execution_count": null,
      "metadata": {
        "id": "GjNs41Ex0HGg"
      },
      "outputs": [],
      "source": [
        "def calcula_erro2(reais,pred):\n",
        "    real_pred = reais.assign( mortesPreditas = pred)\n",
        "    real_pred['erro %'] = (real_pred['novasMortes'] - real_pred['mortesPreditas'])/real_pred['novasMortes']\n",
        "    real_pred['erro %'] = (real_pred['erro %'].round(4))*100\n",
        "    real_pred['erro % abs'] = abs(real_pred['erro %'])\n",
        "    \n",
        "    real_pred['erro ^ 2'] =  ((real_pred['novasMortes'] - real_pred['mortesPreditas'])**2)\n",
        "    \n",
        "    mape = round((real_pred['erro % abs'].mean()),2)\n",
        "    rmse = round((real_pred['erro ^ 2'].mean()),2)\n",
        "    \n",
        "    return real_pred, mape, rmse"
      ]
    },
    {
      "cell_type": "markdown",
      "metadata": {
        "id": "5bS8E2JP0HGg"
      },
      "source": [
        "# # Previsão Com ARIMA"
      ]
    },
    {
      "cell_type": "code",
      "execution_count": null,
      "metadata": {
        "id": "dsxt6ZA20HGg"
      },
      "outputs": [],
      "source": [
        "from statsmodels.tsa.arima_model import ARIMA"
      ]
    },
    {
      "cell_type": "code",
      "execution_count": null,
      "metadata": {
        "scrolled": true,
        "id": "mVp1Y5180HGh",
        "outputId": "86b300f3-48dc-4c95-cfb5-87eafd4196f9"
      },
      "outputs": [
        {
          "name": "stderr",
          "output_type": "stream",
          "text": [
            "C:\\Users\\Claud\\anaconda3\\lib\\site-packages\\statsmodels\\tsa\\arima_model.py:472: FutureWarning: \n",
            "statsmodels.tsa.arima_model.ARMA and statsmodels.tsa.arima_model.ARIMA have\n",
            "been deprecated in favor of statsmodels.tsa.arima.model.ARIMA (note the .\n",
            "between arima and model) and\n",
            "statsmodels.tsa.SARIMAX. These will be removed after the 0.12 release.\n",
            "\n",
            "statsmodels.tsa.arima.model.ARIMA makes use of the statespace framework and\n",
            "is both well tested and maintained.\n",
            "\n",
            "To silence this warning and continue using ARMA and ARIMA until they are\n",
            "removed, use:\n",
            "\n",
            "import warnings\n",
            "warnings.filterwarnings('ignore', 'statsmodels.tsa.arima_model.ARMA',\n",
            "                        FutureWarning)\n",
            "warnings.filterwarnings('ignore', 'statsmodels.tsa.arima_model.ARIMA',\n",
            "                        FutureWarning)\n",
            "\n",
            "  warnings.warn(ARIMA_DEPRECATION_WARN, FutureWarning)\n",
            "C:\\Users\\Claud\\anaconda3\\lib\\site-packages\\statsmodels\\tsa\\arima_model.py:472: FutureWarning: \n",
            "statsmodels.tsa.arima_model.ARMA and statsmodels.tsa.arima_model.ARIMA have\n",
            "been deprecated in favor of statsmodels.tsa.arima.model.ARIMA (note the .\n",
            "between arima and model) and\n",
            "statsmodels.tsa.SARIMAX. These will be removed after the 0.12 release.\n",
            "\n",
            "statsmodels.tsa.arima.model.ARIMA makes use of the statespace framework and\n",
            "is both well tested and maintained.\n",
            "\n",
            "To silence this warning and continue using ARMA and ARIMA until they are\n",
            "removed, use:\n",
            "\n",
            "import warnings\n",
            "warnings.filterwarnings('ignore', 'statsmodels.tsa.arima_model.ARMA',\n",
            "                        FutureWarning)\n",
            "warnings.filterwarnings('ignore', 'statsmodels.tsa.arima_model.ARIMA',\n",
            "                        FutureWarning)\n",
            "\n",
            "  warnings.warn(ARIMA_DEPRECATION_WARN, FutureWarning)\n"
          ]
        },
        {
          "data": {
            "text/plain": [
              "16.95899265656169"
            ]
          },
          "execution_count": 50,
          "metadata": {},
          "output_type": "execute_result"
        }
      ],
      "source": [
        "model = ARIMA(train,  freq='D',order=(5,1,6)) #6,5\n",
        "model_fit = model.fit(disp=0)\n",
        "math.sqrt((model_fit.resid**2).mean())"
      ]
    },
    {
      "cell_type": "code",
      "execution_count": null,
      "metadata": {
        "id": "Tc9vnYjM0HGh",
        "outputId": "d74e882e-1617-44e9-8c97-784a91a51b16"
      },
      "outputs": [
        {
          "data": {
            "text/plain": [
              "array([68, 52, 30, 56, 82, 65, 55])"
            ]
          },
          "execution_count": 51,
          "metadata": {},
          "output_type": "execute_result"
        }
      ],
      "source": [
        "pred = model_fit.forecast(len(test))\n",
        "pred = pred[0].round().astype('int')\n",
        "pred"
      ]
    },
    {
      "cell_type": "code",
      "execution_count": null,
      "metadata": {
        "id": "J8R9W6K20HGh",
        "outputId": "4fb46a41-b30d-4413-ec7a-7794a7296de6"
      },
      "outputs": [
        {
          "data": {
            "text/html": [
              "<div>\n",
              "<style scoped>\n",
              "    .dataframe tbody tr th:only-of-type {\n",
              "        vertical-align: middle;\n",
              "    }\n",
              "\n",
              "    .dataframe tbody tr th {\n",
              "        vertical-align: top;\n",
              "    }\n",
              "\n",
              "    .dataframe thead th {\n",
              "        text-align: right;\n",
              "    }\n",
              "</style>\n",
              "<table border=\"1\" class=\"dataframe\">\n",
              "  <thead>\n",
              "    <tr style=\"text-align: right;\">\n",
              "      <th></th>\n",
              "      <th>novasMortes</th>\n",
              "    </tr>\n",
              "    <tr>\n",
              "      <th>data</th>\n",
              "      <th></th>\n",
              "    </tr>\n",
              "  </thead>\n",
              "  <tbody>\n",
              "    <tr>\n",
              "      <th>2021-06-04</th>\n",
              "      <td>67</td>\n",
              "    </tr>\n",
              "    <tr>\n",
              "      <th>2021-06-05</th>\n",
              "      <td>44</td>\n",
              "    </tr>\n",
              "    <tr>\n",
              "      <th>2021-06-06</th>\n",
              "      <td>33</td>\n",
              "    </tr>\n",
              "    <tr>\n",
              "      <th>2021-06-07</th>\n",
              "      <td>58</td>\n",
              "    </tr>\n",
              "    <tr>\n",
              "      <th>2021-06-08</th>\n",
              "      <td>84</td>\n",
              "    </tr>\n",
              "    <tr>\n",
              "      <th>2021-06-09</th>\n",
              "      <td>51</td>\n",
              "    </tr>\n",
              "    <tr>\n",
              "      <th>2021-06-10</th>\n",
              "      <td>45</td>\n",
              "    </tr>\n",
              "  </tbody>\n",
              "</table>\n",
              "</div>"
            ],
            "text/plain": [
              "            novasMortes\n",
              "data                   \n",
              "2021-06-04           67\n",
              "2021-06-05           44\n",
              "2021-06-06           33\n",
              "2021-06-07           58\n",
              "2021-06-08           84\n",
              "2021-06-09           51\n",
              "2021-06-10           45"
            ]
          },
          "execution_count": 52,
          "metadata": {},
          "output_type": "execute_result"
        }
      ],
      "source": [
        "test"
      ]
    },
    {
      "cell_type": "code",
      "execution_count": null,
      "metadata": {
        "id": "mvbddGf_0HGi"
      },
      "outputs": [],
      "source": [
        "tabela_previsoes = tabela_previsoes.assign (predit_arima = pred)"
      ]
    },
    {
      "cell_type": "code",
      "execution_count": null,
      "metadata": {
        "id": "uaxlcuH20HGi",
        "outputId": "df66644f-5a34-4cf1-a6fc-cc35b3c35827"
      },
      "outputs": [
        {
          "data": {
            "text/html": [
              "<div>\n",
              "<style scoped>\n",
              "    .dataframe tbody tr th:only-of-type {\n",
              "        vertical-align: middle;\n",
              "    }\n",
              "\n",
              "    .dataframe tbody tr th {\n",
              "        vertical-align: top;\n",
              "    }\n",
              "\n",
              "    .dataframe thead th {\n",
              "        text-align: right;\n",
              "    }\n",
              "</style>\n",
              "<table border=\"1\" class=\"dataframe\">\n",
              "  <thead>\n",
              "    <tr style=\"text-align: right;\">\n",
              "      <th></th>\n",
              "      <th>novasMortes</th>\n",
              "      <th>mortesPreditas</th>\n",
              "      <th>erro abs</th>\n",
              "      <th>erro % abs</th>\n",
              "      <th>erro ^ 2</th>\n",
              "    </tr>\n",
              "    <tr>\n",
              "      <th>data</th>\n",
              "      <th></th>\n",
              "      <th></th>\n",
              "      <th></th>\n",
              "      <th></th>\n",
              "      <th></th>\n",
              "    </tr>\n",
              "  </thead>\n",
              "  <tbody>\n",
              "    <tr>\n",
              "      <th>2021-06-04</th>\n",
              "      <td>67</td>\n",
              "      <td>68</td>\n",
              "      <td>1</td>\n",
              "      <td>1.49</td>\n",
              "      <td>1</td>\n",
              "    </tr>\n",
              "    <tr>\n",
              "      <th>2021-06-05</th>\n",
              "      <td>44</td>\n",
              "      <td>52</td>\n",
              "      <td>8</td>\n",
              "      <td>18.18</td>\n",
              "      <td>64</td>\n",
              "    </tr>\n",
              "    <tr>\n",
              "      <th>2021-06-06</th>\n",
              "      <td>33</td>\n",
              "      <td>30</td>\n",
              "      <td>3</td>\n",
              "      <td>9.09</td>\n",
              "      <td>9</td>\n",
              "    </tr>\n",
              "    <tr>\n",
              "      <th>2021-06-07</th>\n",
              "      <td>58</td>\n",
              "      <td>56</td>\n",
              "      <td>2</td>\n",
              "      <td>3.45</td>\n",
              "      <td>4</td>\n",
              "    </tr>\n",
              "    <tr>\n",
              "      <th>2021-06-08</th>\n",
              "      <td>84</td>\n",
              "      <td>82</td>\n",
              "      <td>2</td>\n",
              "      <td>2.38</td>\n",
              "      <td>4</td>\n",
              "    </tr>\n",
              "    <tr>\n",
              "      <th>2021-06-09</th>\n",
              "      <td>51</td>\n",
              "      <td>65</td>\n",
              "      <td>14</td>\n",
              "      <td>27.45</td>\n",
              "      <td>196</td>\n",
              "    </tr>\n",
              "    <tr>\n",
              "      <th>2021-06-10</th>\n",
              "      <td>45</td>\n",
              "      <td>55</td>\n",
              "      <td>10</td>\n",
              "      <td>22.22</td>\n",
              "      <td>100</td>\n",
              "    </tr>\n",
              "  </tbody>\n",
              "</table>\n",
              "</div>"
            ],
            "text/plain": [
              "            novasMortes  mortesPreditas  erro abs  erro % abs  erro ^ 2\n",
              "data                                                                   \n",
              "2021-06-04           67              68         1        1.49         1\n",
              "2021-06-05           44              52         8       18.18        64\n",
              "2021-06-06           33              30         3        9.09         9\n",
              "2021-06-07           58              56         2        3.45         4\n",
              "2021-06-08           84              82         2        2.38         4\n",
              "2021-06-09           51              65        14       27.45       196\n",
              "2021-06-10           45              55        10       22.22       100"
            ]
          },
          "execution_count": 54,
          "metadata": {},
          "output_type": "execute_result"
        }
      ],
      "source": [
        "real_pred_arima, mae_arima, mape_arima, rmse_arima = calcula_erro(test,pred)\n",
        "real_pred_arima"
      ]
    },
    {
      "cell_type": "code",
      "execution_count": null,
      "metadata": {
        "id": "FXDissOm0HGi",
        "outputId": "92ca6c1e-6401-4d86-d077-fa1b6297100b"
      },
      "outputs": [
        {
          "data": {
            "text/plain": [
              "6"
            ]
          },
          "execution_count": 55,
          "metadata": {},
          "output_type": "execute_result"
        }
      ],
      "source": [
        "mae_arima"
      ]
    },
    {
      "cell_type": "code",
      "execution_count": null,
      "metadata": {
        "id": "TsbJG6Qq0HGi",
        "outputId": "69be4a57-28aa-4dd8-c08f-026892a70371"
      },
      "outputs": [
        {
          "data": {
            "text/plain": [
              "12.04"
            ]
          },
          "execution_count": 56,
          "metadata": {},
          "output_type": "execute_result"
        }
      ],
      "source": [
        "mape_arima"
      ]
    },
    {
      "cell_type": "code",
      "execution_count": null,
      "metadata": {
        "id": "lnGNU69D0HGj",
        "outputId": "98cc3003-18ca-4a7e-fdd3-acacd469121e"
      },
      "outputs": [
        {
          "data": {
            "text/plain": [
              "7.35"
            ]
          },
          "execution_count": 57,
          "metadata": {},
          "output_type": "execute_result"
        }
      ],
      "source": [
        "rmse_arima"
      ]
    },
    {
      "cell_type": "code",
      "execution_count": null,
      "metadata": {
        "scrolled": false,
        "id": "nF9IodSI0HGj",
        "outputId": "d4e64ff4-3267-475b-b02b-ac9cbe3001db"
      },
      "outputs": [
        {
          "data": {
            "image/png": "[encoded data removed]",
            "text/plain": [
              "<Figure size 864x432 with 1 Axes>"
            ]
          },
          "metadata": {
            "needs_background": "light"
          },
          "output_type": "display_data"
        }
      ],
      "source": [
        "plt.figure(figsize=(12,6))\n",
        "plt.plot(real_pred_arima['mortesPreditas'], label = 'Dados Preditos', marker='o', color='orange')\n",
        "plt.plot(real_pred_arima['novasMortes'], label = 'Dados Reais', marker='o', color='black')\n",
        "plt.ylabel('MORTES')\n",
        "plt.xlabel('DATA')\n",
        "plt.legend()\n",
        "plt.title('Previsão de mortes diara relacionada ao COVID-19\\n no estado de Santa Catarina com ARIMA')\n",
        "plt.show()"
      ]
    },
    {
      "cell_type": "markdown",
      "metadata": {
        "id": "7CiEZgyz0HGj"
      },
      "source": [
        "# # Previsão com Holt-Winters"
      ]
    },
    {
      "cell_type": "code",
      "execution_count": null,
      "metadata": {
        "id": "0RBQdaxo0HGj"
      },
      "outputs": [],
      "source": [
        "from statsmodels.tsa.api import ExponentialSmoothing"
      ]
    },
    {
      "cell_type": "code",
      "execution_count": null,
      "metadata": {
        "id": "ryDQREZf0HGk",
        "outputId": "981015c3-a305-4924-e217-6d72c0bdc120"
      },
      "outputs": [
        {
          "name": "stderr",
          "output_type": "stream",
          "text": [
            "C:\\Users\\Claud\\anaconda3\\lib\\site-packages\\statsmodels\\tsa\\base\\tsa_model.py:524: ValueWarning: No frequency information was provided, so inferred frequency D will be used.\n",
            "  warnings.warn('No frequency information was'\n",
            "C:\\Users\\Claud\\anaconda3\\lib\\site-packages\\statsmodels\\tsa\\holtwinters\\model.py:427: FutureWarning: After 0.13 initialization must be handled at model creation\n",
            "  warnings.warn(\n"
          ]
        },
        {
          "data": {
            "text/plain": [
              "17.096052258083994"
            ]
          },
          "execution_count": 61,
          "metadata": {},
          "output_type": "execute_result"
        }
      ],
      "source": [
        "modelHw = ExponentialSmoothing(train,trend='add', seasonal='add',seasonal_periods=7).fit() \n",
        "math.sqrt((modelHw.resid**2).mean()) # RMSE SCORE "
      ]
    },
    {
      "cell_type": "code",
      "execution_count": null,
      "metadata": {
        "id": "eJhaRNIc0HGk",
        "outputId": "8d50e763-5d79-4840-e6c6-5cdbe1ea27a8"
      },
      "outputs": [
        {
          "data": {
            "text/plain": [
              "array([64, 41, 25, 47, 90, 55, 63])"
            ]
          },
          "execution_count": 62,
          "metadata": {},
          "output_type": "execute_result"
        }
      ],
      "source": [
        "predit_holt = modelHw.forecast(len(test))\n",
        "predit_holt = (predit_holt.values).round()\n",
        "predit_holt = predit_holt.astype('int')\n",
        "predit_holt"
      ]
    },
    {
      "cell_type": "code",
      "execution_count": null,
      "metadata": {
        "id": "ZhwGG-1C0HGk"
      },
      "outputs": [],
      "source": [
        "tabela_previsoes = tabela_previsoes.assign( predit_HW = predit_holt)"
      ]
    },
    {
      "cell_type": "code",
      "execution_count": null,
      "metadata": {
        "id": "jx846Oom0HGk"
      },
      "outputs": [],
      "source": [
        "real_pred_holt,mae_holt, mape_holt, rmse_holt = calcula_erro(test,predit_holt)"
      ]
    },
    {
      "cell_type": "code",
      "execution_count": null,
      "metadata": {
        "id": "HJxmNjB30HGl",
        "outputId": "fa32f1e0-af59-4870-ec7c-f0e358cd47af"
      },
      "outputs": [
        {
          "data": {
            "text/html": [
              "<div>\n",
              "<style scoped>\n",
              "    .dataframe tbody tr th:only-of-type {\n",
              "        vertical-align: middle;\n",
              "    }\n",
              "\n",
              "    .dataframe tbody tr th {\n",
              "        vertical-align: top;\n",
              "    }\n",
              "\n",
              "    .dataframe thead th {\n",
              "        text-align: right;\n",
              "    }\n",
              "</style>\n",
              "<table border=\"1\" class=\"dataframe\">\n",
              "  <thead>\n",
              "    <tr style=\"text-align: right;\">\n",
              "      <th></th>\n",
              "      <th>novasMortes</th>\n",
              "      <th>mortesPreditas</th>\n",
              "      <th>erro abs</th>\n",
              "      <th>erro % abs</th>\n",
              "      <th>erro ^ 2</th>\n",
              "    </tr>\n",
              "    <tr>\n",
              "      <th>data</th>\n",
              "      <th></th>\n",
              "      <th></th>\n",
              "      <th></th>\n",
              "      <th></th>\n",
              "      <th></th>\n",
              "    </tr>\n",
              "  </thead>\n",
              "  <tbody>\n",
              "    <tr>\n",
              "      <th>2021-06-04</th>\n",
              "      <td>67</td>\n",
              "      <td>64</td>\n",
              "      <td>3</td>\n",
              "      <td>4.48</td>\n",
              "      <td>9</td>\n",
              "    </tr>\n",
              "    <tr>\n",
              "      <th>2021-06-05</th>\n",
              "      <td>44</td>\n",
              "      <td>41</td>\n",
              "      <td>3</td>\n",
              "      <td>6.82</td>\n",
              "      <td>9</td>\n",
              "    </tr>\n",
              "    <tr>\n",
              "      <th>2021-06-06</th>\n",
              "      <td>33</td>\n",
              "      <td>25</td>\n",
              "      <td>8</td>\n",
              "      <td>24.24</td>\n",
              "      <td>64</td>\n",
              "    </tr>\n",
              "    <tr>\n",
              "      <th>2021-06-07</th>\n",
              "      <td>58</td>\n",
              "      <td>47</td>\n",
              "      <td>11</td>\n",
              "      <td>18.97</td>\n",
              "      <td>121</td>\n",
              "    </tr>\n",
              "    <tr>\n",
              "      <th>2021-06-08</th>\n",
              "      <td>84</td>\n",
              "      <td>90</td>\n",
              "      <td>6</td>\n",
              "      <td>7.14</td>\n",
              "      <td>36</td>\n",
              "    </tr>\n",
              "    <tr>\n",
              "      <th>2021-06-09</th>\n",
              "      <td>51</td>\n",
              "      <td>55</td>\n",
              "      <td>4</td>\n",
              "      <td>7.84</td>\n",
              "      <td>16</td>\n",
              "    </tr>\n",
              "    <tr>\n",
              "      <th>2021-06-10</th>\n",
              "      <td>45</td>\n",
              "      <td>63</td>\n",
              "      <td>18</td>\n",
              "      <td>40.00</td>\n",
              "      <td>324</td>\n",
              "    </tr>\n",
              "  </tbody>\n",
              "</table>\n",
              "</div>"
            ],
            "text/plain": [
              "            novasMortes  mortesPreditas  erro abs  erro % abs  erro ^ 2\n",
              "data                                                                   \n",
              "2021-06-04           67              64         3        4.48         9\n",
              "2021-06-05           44              41         3        6.82         9\n",
              "2021-06-06           33              25         8       24.24        64\n",
              "2021-06-07           58              47        11       18.97       121\n",
              "2021-06-08           84              90         6        7.14        36\n",
              "2021-06-09           51              55         4        7.84        16\n",
              "2021-06-10           45              63        18       40.00       324"
            ]
          },
          "execution_count": 65,
          "metadata": {},
          "output_type": "execute_result"
        }
      ],
      "source": [
        "real_pred_holt"
      ]
    },
    {
      "cell_type": "code",
      "execution_count": null,
      "metadata": {
        "id": "i9ZB7BAe0HGl",
        "outputId": "f85e93ab-4b6f-40d1-9c9a-08b17e3f51cd"
      },
      "outputs": [
        {
          "data": {
            "text/plain": [
              "8"
            ]
          },
          "execution_count": 66,
          "metadata": {},
          "output_type": "execute_result"
        }
      ],
      "source": [
        "mae_holt"
      ]
    },
    {
      "cell_type": "code",
      "execution_count": null,
      "metadata": {
        "id": "hqzRi_mt0HGl",
        "outputId": "05765449-2ea3-4349-c9d3-f613232c4f6c"
      },
      "outputs": [
        {
          "data": {
            "text/plain": [
              "15.64"
            ]
          },
          "execution_count": 67,
          "metadata": {},
          "output_type": "execute_result"
        }
      ],
      "source": [
        "mape_holt"
      ]
    },
    {
      "cell_type": "code",
      "execution_count": null,
      "metadata": {
        "id": "viVkvBWk0HGl",
        "outputId": "29907131-17c0-4577-cb6b-43f9aa645e09"
      },
      "outputs": [
        {
          "data": {
            "text/plain": [
              "9.09"
            ]
          },
          "execution_count": 68,
          "metadata": {},
          "output_type": "execute_result"
        }
      ],
      "source": [
        "rmse_holt"
      ]
    },
    {
      "cell_type": "code",
      "execution_count": null,
      "metadata": {
        "id": "QiF9zBSj0HGm",
        "outputId": "9852bec4-851c-4334-94b0-eec17425e6c3"
      },
      "outputs": [
        {
          "data": {
            "image/png": "[encoded data removed]",
            "text/plain": [
              "<Figure size 720x360 with 1 Axes>"
            ]
          },
          "metadata": {
            "needs_background": "light"
          },
          "output_type": "display_data"
        }
      ],
      "source": [
        "plt.figure(figsize=(10,5))\n",
        "plt.plot(real_pred_holt['novasMortes'], marker='o' , color = 'black' , label='Dados Reais')\n",
        "plt.plot(real_pred_holt['mortesPreditas'] , marker='o' , color = 'red', label= 'Dados Previsto')\n",
        "plt.ylabel('MORTES')\n",
        "plt.xlabel('DATA')\n",
        "plt.title('Previsão de mortes diara relacionada ao COVID-19 \\n no estado de Santa Catarina com Holt Winters')\n",
        "plt.legend()\n",
        "plt.show()"
      ]
    },
    {
      "cell_type": "code",
      "execution_count": null,
      "metadata": {
        "id": "lGRFWYr-0HGm"
      },
      "outputs": [],
      "source": [
        ""
      ]
    },
    {
      "cell_type": "markdown",
      "metadata": {
        "id": "wjmVcmLf0HGm"
      },
      "source": [
        "# # Previsão com  SARIMA"
      ]
    },
    {
      "cell_type": "code",
      "execution_count": null,
      "metadata": {
        "id": "oZQYFBAr0HGm"
      },
      "outputs": [],
      "source": [
        "from statsmodels.tsa.statespace.sarimax import SARIMAX"
      ]
    },
    {
      "cell_type": "code",
      "execution_count": null,
      "metadata": {
        "id": "Ej_rt8aa0HGm",
        "outputId": "7df26cec-e87e-4991-8ec3-b47dfb0e2881"
      },
      "outputs": [
        {
          "name": "stderr",
          "output_type": "stream",
          "text": [
            "C:\\Users\\Claud\\anaconda3\\lib\\site-packages\\statsmodels\\tsa\\base\\tsa_model.py:524: ValueWarning: No frequency information was provided, so inferred frequency D will be used.\n",
            "  warnings.warn('No frequency information was'\n",
            "C:\\Users\\Claud\\anaconda3\\lib\\site-packages\\statsmodels\\tsa\\base\\tsa_model.py:524: ValueWarning: No frequency information was provided, so inferred frequency D will be used.\n",
            "  warnings.warn('No frequency information was'\n",
            "C:\\Users\\Claud\\anaconda3\\lib\\site-packages\\statsmodels\\base\\model.py:566: ConvergenceWarning: Maximum Likelihood optimization failed to converge. Check mle_retvals\n",
            "  warnings.warn(\"Maximum Likelihood optimization failed to \"\n"
          ]
        },
        {
          "data": {
            "text/plain": [
              "16.812692978346124"
            ]
          },
          "execution_count": 71,
          "metadata": {},
          "output_type": "execute_result"
        }
      ],
      "source": [
        "sarima = SARIMAX(train,order=(5,1,6), seasonal_order=(2,1,3, 7)).fit(disp=False) #2,1,2\n",
        "math.sqrt((sarima.resid**2).mean()) # RMSE"
      ]
    },
    {
      "cell_type": "code",
      "execution_count": null,
      "metadata": {
        "id": "U46fUdys0HGn",
        "outputId": "97651fa2-214f-4ab8-eee8-66e82bdaedc6"
      },
      "outputs": [
        {
          "data": {
            "text/plain": [
              "array([66, 50, 33, 54, 87, 57, 60])"
            ]
          },
          "execution_count": 72,
          "metadata": {},
          "output_type": "execute_result"
        }
      ],
      "source": [
        "pred_sarima = sarima.forecast(len(test)).round().astype('int').values\n",
        "pred_sarima"
      ]
    },
    {
      "cell_type": "code",
      "execution_count": null,
      "metadata": {
        "id": "N8odh9Qq0HGn"
      },
      "outputs": [],
      "source": [
        "tabela_previsoes = tabela_previsoes.assign( predit_sarima = pred_sarima)"
      ]
    },
    {
      "cell_type": "code",
      "execution_count": null,
      "metadata": {
        "id": "Mf8pc-xd0HGn",
        "outputId": "698e8cab-6980-4c7e-a731-862486f7b442"
      },
      "outputs": [
        {
          "data": {
            "text/html": [
              "<div>\n",
              "<style scoped>\n",
              "    .dataframe tbody tr th:only-of-type {\n",
              "        vertical-align: middle;\n",
              "    }\n",
              "\n",
              "    .dataframe tbody tr th {\n",
              "        vertical-align: top;\n",
              "    }\n",
              "\n",
              "    .dataframe thead th {\n",
              "        text-align: right;\n",
              "    }\n",
              "</style>\n",
              "<table border=\"1\" class=\"dataframe\">\n",
              "  <thead>\n",
              "    <tr style=\"text-align: right;\">\n",
              "      <th></th>\n",
              "      <th>novasMortes</th>\n",
              "      <th>mortesPreditas</th>\n",
              "      <th>erro abs</th>\n",
              "      <th>erro % abs</th>\n",
              "      <th>erro ^ 2</th>\n",
              "    </tr>\n",
              "    <tr>\n",
              "      <th>data</th>\n",
              "      <th></th>\n",
              "      <th></th>\n",
              "      <th></th>\n",
              "      <th></th>\n",
              "      <th></th>\n",
              "    </tr>\n",
              "  </thead>\n",
              "  <tbody>\n",
              "    <tr>\n",
              "      <th>2021-06-04</th>\n",
              "      <td>67</td>\n",
              "      <td>66</td>\n",
              "      <td>1</td>\n",
              "      <td>1.49</td>\n",
              "      <td>1</td>\n",
              "    </tr>\n",
              "    <tr>\n",
              "      <th>2021-06-05</th>\n",
              "      <td>44</td>\n",
              "      <td>50</td>\n",
              "      <td>6</td>\n",
              "      <td>13.64</td>\n",
              "      <td>36</td>\n",
              "    </tr>\n",
              "    <tr>\n",
              "      <th>2021-06-06</th>\n",
              "      <td>33</td>\n",
              "      <td>33</td>\n",
              "      <td>0</td>\n",
              "      <td>0.00</td>\n",
              "      <td>0</td>\n",
              "    </tr>\n",
              "    <tr>\n",
              "      <th>2021-06-07</th>\n",
              "      <td>58</td>\n",
              "      <td>54</td>\n",
              "      <td>4</td>\n",
              "      <td>6.90</td>\n",
              "      <td>16</td>\n",
              "    </tr>\n",
              "    <tr>\n",
              "      <th>2021-06-08</th>\n",
              "      <td>84</td>\n",
              "      <td>87</td>\n",
              "      <td>3</td>\n",
              "      <td>3.57</td>\n",
              "      <td>9</td>\n",
              "    </tr>\n",
              "    <tr>\n",
              "      <th>2021-06-09</th>\n",
              "      <td>51</td>\n",
              "      <td>57</td>\n",
              "      <td>6</td>\n",
              "      <td>11.76</td>\n",
              "      <td>36</td>\n",
              "    </tr>\n",
              "    <tr>\n",
              "      <th>2021-06-10</th>\n",
              "      <td>45</td>\n",
              "      <td>60</td>\n",
              "      <td>15</td>\n",
              "      <td>33.33</td>\n",
              "      <td>225</td>\n",
              "    </tr>\n",
              "  </tbody>\n",
              "</table>\n",
              "</div>"
            ],
            "text/plain": [
              "            novasMortes  mortesPreditas  erro abs  erro % abs  erro ^ 2\n",
              "data                                                                   \n",
              "2021-06-04           67              66         1        1.49         1\n",
              "2021-06-05           44              50         6       13.64        36\n",
              "2021-06-06           33              33         0        0.00         0\n",
              "2021-06-07           58              54         4        6.90        16\n",
              "2021-06-08           84              87         3        3.57         9\n",
              "2021-06-09           51              57         6       11.76        36\n",
              "2021-06-10           45              60        15       33.33       225"
            ]
          },
          "execution_count": 74,
          "metadata": {},
          "output_type": "execute_result"
        }
      ],
      "source": [
        "real_pred_sarima,mae_sarima, mape_sarima, rmse_sarima = calcula_erro(test,pred_sarima)\n",
        "real_pred_sarima"
      ]
    },
    {
      "cell_type": "code",
      "execution_count": null,
      "metadata": {
        "id": "uFe3q6rh0HGo",
        "outputId": "d7dcef65-ef7e-4706-a521-45be97d1ea13"
      },
      "outputs": [
        {
          "data": {
            "text/plain": [
              "5"
            ]
          },
          "execution_count": 75,
          "metadata": {},
          "output_type": "execute_result"
        }
      ],
      "source": [
        "mae_sarima"
      ]
    },
    {
      "cell_type": "code",
      "execution_count": null,
      "metadata": {
        "id": "sSEnwToy0HGo",
        "outputId": "1a1e7222-dff6-47df-f91e-ff6e26bab151"
      },
      "outputs": [
        {
          "data": {
            "text/plain": [
              "10.1"
            ]
          },
          "execution_count": 76,
          "metadata": {},
          "output_type": "execute_result"
        }
      ],
      "source": [
        "mape_sarima"
      ]
    },
    {
      "cell_type": "code",
      "execution_count": null,
      "metadata": {
        "id": "lu2MpK6i0HGo",
        "outputId": "e980870f-6cb3-40ce-d826-4f12c0772297"
      },
      "outputs": [
        {
          "data": {
            "text/plain": [
              "6.79"
            ]
          },
          "execution_count": 77,
          "metadata": {},
          "output_type": "execute_result"
        }
      ],
      "source": [
        "rmse_sarima"
      ]
    },
    {
      "cell_type": "code",
      "execution_count": null,
      "metadata": {
        "id": "Gs-JCQAT0HGo",
        "outputId": "d1281d00-a03c-4af9-890b-11104bae4dd0"
      },
      "outputs": [
        {
          "data": {
            "image/png": "[encoded data removed]",
            "text/plain": [
              "<Figure size 720x360 with 1 Axes>"
            ]
          },
          "metadata": {
            "needs_background": "light"
          },
          "output_type": "display_data"
        }
      ],
      "source": [
        "plt.figure(figsize=(10,5))\n",
        "plt.plot(real_pred_sarima['mortesPreditas'], label = 'Dados Preditos',marker='o', color='yellow')\n",
        "plt.plot(real_pred_sarima['novasMortes'], label = 'Dados Reais',marker='o', color='black')\n",
        "plt.ylabel('MORTES')\n",
        "plt.xlabel('DATA')\n",
        "plt.legend()\n",
        "plt.title('Previsão de mortes diara relacionada ao COVID-19\\n no estado de Santa Catarina com SARIMA')\n",
        "plt.show() "
      ]
    },
    {
      "cell_type": "code",
      "execution_count": null,
      "metadata": {
        "id": "mJB85Oty0HGp",
        "outputId": "cbc4671b-ec09-4bec-f114-ebecbbeff8c1"
      },
      "outputs": [
        {
          "data": {
            "image/png": "[encoded data removed]",
            "text/plain": [
              "<Figure size 720x360 with 1 Axes>"
            ]
          },
          "metadata": {
            "needs_background": "light"
          },
          "output_type": "display_data"
        }
      ],
      "source": [
        "plt.figure(figsize=(10,5))\n",
        "plt.plot(train, label = 'Dados Reais', color='blue')\n",
        "plt.plot(real_pred_sarima['mortesPreditas'], label = 'Dados Preditos', color='yellow')\n",
        "plt.ylabel('MORTES')\n",
        "plt.xlabel('DATA')\n",
        "plt.legend()\n",
        "plt.title('Previsão de mortes diara relacionada ao COVID-19\\n no estado de Santa Catarina com SARIMA')\n",
        "plt.show() # 17.67"
      ]
    },
    {
      "cell_type": "markdown",
      "metadata": {
        "id": "NHNZDu-R0HGp"
      },
      "source": [
        "# # Previsão com LSTM"
      ]
    },
    {
      "cell_type": "code",
      "execution_count": null,
      "metadata": {
        "id": "HCObkhMv0HGp"
      },
      "outputs": [],
      "source": [
        "from  keras.models  import Sequential \n",
        "from  keras.layers  import Dense \n",
        "from  keras.layers  import LSTM \n",
        "from  keras.layers  import Dropout\n",
        "from  keras.preprocessing.sequence  import TimeseriesGenerator \n",
        "from  sklearn.preprocessing import MinMaxScaler"
      ]
    },
    {
      "cell_type": "code",
      "execution_count": null,
      "metadata": {
        "id": "3_HS4Qey0HGq"
      },
      "outputs": [],
      "source": [
        "train2 = train.values.astype('float32').reshape(-1,1)\n",
        "scaler = MinMaxScaler ()\n",
        "scaler.fit (train2) \n",
        "scaled_train_data = scaler.transform (train2) "
      ]
    },
    {
      "cell_type": "code",
      "execution_count": null,
      "metadata": {
        "scrolled": true,
        "id": "_eGLmGkv0HGq",
        "outputId": "f12bc646-b395-4d0f-ef67-f4c1691fdfe3"
      },
      "outputs": [
        {
          "name": "stdout",
          "output_type": "stream",
          "text": [
            "Model: \"sequential\"\n",
            "_________________________________________________________________\n",
            "Layer (type)                 Output Shape              Param #   \n",
            "=================================================================\n",
            "lstm (LSTM)                  (None, 150)               91200     \n",
            "_________________________________________________________________\n",
            "dropout (Dropout)            (None, 150)               0         \n",
            "_________________________________________________________________\n",
            "dense (Dense)                (None, 1)                 151       \n",
            "=================================================================\n",
            "Total params: 91,351\n",
            "Trainable params: 91,351\n",
            "Non-trainable params: 0\n",
            "_________________________________________________________________\n"
          ]
        }
      ],
      "source": [
        "lags = 7\n",
        "recs = 1 \n",
        "generator = TimeseriesGenerator (scaled_train_data, scaled_train_data, length = lags, batch_size = 1)\n",
        "\n",
        "lstm_model = Sequential () \n",
        "lstm_model.add (LSTM (150, activation = 'relu', input_shape = (lags, recs))) \n",
        "lstm_model.add(Dropout(0.5))\n",
        "lstm_model.add ( Dense (1))\n",
        "lstm_model.compile (optimizer = 'adam', loss='mse') \n",
        "\n",
        "lstm_model.summary ()"
      ]
    },
    {
      "cell_type": "code",
      "execution_count": null,
      "metadata": {
        "scrolled": true,
        "id": "S3wy4Jrl0HGq",
        "outputId": "66f4ca8b-2af6-4c90-b2cb-712f9a5f3faf"
      },
      "outputs": [
        {
          "name": "stdout",
          "output_type": "stream",
          "text": [
            "Epoch 1/150\n",
            "314/314 [==============================] - 3s 4ms/step - loss: 0.0364\n",
            "Epoch 2/150\n",
            "314/314 [==============================] - 1s 4ms/step - loss: 0.0150\n",
            "Epoch 3/150\n",
            "314/314 [==============================] - 1s 4ms/step - loss: 0.0134\n",
            "Epoch 4/150\n",
            "314/314 [==============================] - 1s 4ms/step - loss: 0.0111\n",
            "Epoch 5/150\n",
            "314/314 [==============================] - 1s 4ms/step - loss: 0.0131\n",
            "Epoch 6/150\n",
            "314/314 [==============================] - 1s 4ms/step - loss: 0.0122\n",
            "Epoch 7/150\n",
            "314/314 [==============================] - 1s 4ms/step - loss: 0.0128\n",
            "Epoch 8/150\n",
            "314/314 [==============================] - 1s 4ms/step - loss: 0.0096\n",
            "Epoch 9/150\n",
            "314/314 [==============================] - 1s 4ms/step - loss: 0.0100\n",
            "Epoch 10/150\n",
            "314/314 [==============================] - 1s 4ms/step - loss: 0.0095\n",
            "Epoch 11/150\n",
            "314/314 [==============================] - 1s 5ms/step - loss: 0.0093\n",
            "Epoch 12/150\n",
            "314/314 [==============================] - 1s 4ms/step - loss: 0.0103\n",
            "Epoch 13/150\n",
            "314/314 [==============================] - 1s 4ms/step - loss: 0.0080\n",
            "Epoch 14/150\n",
            "314/314 [==============================] - 1s 4ms/step - loss: 0.0105\n",
            "Epoch 15/150\n",
            "314/314 [==============================] - 1s 4ms/step - loss: 0.0079\n",
            "Epoch 16/150\n",
            "314/314 [==============================] - 1s 4ms/step - loss: 0.0099\n",
            "Epoch 17/150\n",
            "314/314 [==============================] - 1s 4ms/step - loss: 0.0097\n",
            "Epoch 18/150\n",
            "314/314 [==============================] - 1s 5ms/step - loss: 0.0116\n",
            "Epoch 19/150\n",
            "314/314 [==============================] - 1s 4ms/step - loss: 0.0091\n",
            "Epoch 20/150\n",
            "314/314 [==============================] - 1s 4ms/step - loss: 0.0096\n",
            "Epoch 21/150\n",
            "314/314 [==============================] - 1s 4ms/step - loss: 0.0084\n",
            "Epoch 22/150\n",
            "314/314 [==============================] - 1s 4ms/step - loss: 0.0115\n",
            "Epoch 23/150\n",
            "314/314 [==============================] - 1s 4ms/step - loss: 0.0096\n",
            "Epoch 24/150\n",
            "314/314 [==============================] - 1s 4ms/step - loss: 0.0096\n",
            "Epoch 25/150\n",
            "314/314 [==============================] - 1s 4ms/step - loss: 0.0089\n",
            "Epoch 26/150\n",
            "314/314 [==============================] - 1s 4ms/step - loss: 0.0075\n",
            "Epoch 27/150\n",
            "314/314 [==============================] - 1s 4ms/step - loss: 0.0104\n",
            "Epoch 28/150\n",
            "314/314 [==============================] - 1s 4ms/step - loss: 0.0079\n",
            "Epoch 29/150\n",
            "314/314 [==============================] - 1s 4ms/step - loss: 0.0086\n",
            "Epoch 30/150\n",
            "314/314 [==============================] - 1s 4ms/step - loss: 0.0074\n",
            "Epoch 31/150\n",
            "314/314 [==============================] - 1s 5ms/step - loss: 0.0078\n",
            "Epoch 32/150\n",
            "314/314 [==============================] - 1s 4ms/step - loss: 0.0075\n",
            "Epoch 33/150\n",
            "314/314 [==============================] - 1s 4ms/step - loss: 0.0102\n",
            "Epoch 34/150\n",
            "314/314 [==============================] - 1s 4ms/step - loss: 0.0086\n",
            "Epoch 35/150\n",
            "314/314 [==============================] - 1s 4ms/step - loss: 0.0083\n",
            "Epoch 36/150\n",
            "314/314 [==============================] - 1s 4ms/step - loss: 0.0081\n",
            "Epoch 37/150\n",
            "314/314 [==============================] - 1s 4ms/step - loss: 0.0054\n",
            "Epoch 38/150\n",
            "314/314 [==============================] - 1s 5ms/step - loss: 0.0081\n",
            "Epoch 39/150\n",
            "314/314 [==============================] - 1s 4ms/step - loss: 0.0076\n",
            "Epoch 40/150\n",
            "314/314 [==============================] - 1s 4ms/step - loss: 0.0083\n",
            "Epoch 41/150\n",
            "314/314 [==============================] - 1s 4ms/step - loss: 0.0085\n",
            "Epoch 42/150\n",
            "314/314 [==============================] - 1s 4ms/step - loss: 0.0092\n",
            "Epoch 43/150\n",
            "314/314 [==============================] - 1s 3ms/step - loss: 0.0102\n",
            "Epoch 44/150\n",
            "314/314 [==============================] - 1s 3ms/step - loss: 0.0105\n",
            "Epoch 45/150\n",
            "314/314 [==============================] - 1s 3ms/step - loss: 0.0077\n",
            "Epoch 46/150\n",
            "314/314 [==============================] - 1s 4ms/step - loss: 0.0085\n",
            "Epoch 47/150\n",
            "314/314 [==============================] - 1s 5ms/step - loss: 0.0086\n",
            "Epoch 48/150\n",
            "314/314 [==============================] - 1s 4ms/step - loss: 0.0086\n",
            "Epoch 49/150\n",
            "314/314 [==============================] - 1s 5ms/step - loss: 0.0083\n",
            "Epoch 50/150\n",
            "314/314 [==============================] - 1s 5ms/step - loss: 0.0086\n",
            "Epoch 51/150\n",
            "314/314 [==============================] - 2s 5ms/step - loss: 0.0091\n",
            "Epoch 52/150\n",
            "314/314 [==============================] - 2s 5ms/step - loss: 0.0081\n",
            "Epoch 53/150\n",
            "314/314 [==============================] - 2s 5ms/step - loss: 0.0073\n",
            "Epoch 54/150\n",
            "314/314 [==============================] - 1s 4ms/step - loss: 0.0107\n",
            "Epoch 55/150\n",
            "314/314 [==============================] - 1s 5ms/step - loss: 0.0082\n",
            "Epoch 56/150\n",
            "314/314 [==============================] - 1s 5ms/step - loss: 0.0104\n",
            "Epoch 57/150\n",
            "314/314 [==============================] - 2s 5ms/step - loss: 0.0111\n",
            "Epoch 58/150\n",
            "314/314 [==============================] - 1s 5ms/step - loss: 0.0079\n",
            "Epoch 59/150\n",
            "314/314 [==============================] - 1s 4ms/step - loss: 0.0080\n",
            "Epoch 60/150\n",
            "314/314 [==============================] - 2s 5ms/step - loss: 0.0087\n",
            "Epoch 61/150\n",
            "314/314 [==============================] - 2s 5ms/step - loss: 0.0086\n",
            "Epoch 62/150\n",
            "314/314 [==============================] - 1s 4ms/step - loss: 0.0097\n",
            "Epoch 63/150\n",
            "314/314 [==============================] - 1s 4ms/step - loss: 0.0071\n",
            "Epoch 64/150\n",
            "314/314 [==============================] - 1s 4ms/step - loss: 0.0076\n",
            "Epoch 65/150\n",
            "314/314 [==============================] - 1s 4ms/step - loss: 0.0099\n",
            "Epoch 66/150\n",
            "314/314 [==============================] - 1s 4ms/step - loss: 0.0080\n",
            "Epoch 67/150\n",
            "314/314 [==============================] - 1s 4ms/step - loss: 0.0145\n",
            "Epoch 68/150\n",
            "314/314 [==============================] - 1s 4ms/step - loss: 0.0076\n",
            "Epoch 69/150\n",
            "314/314 [==============================] - 1s 4ms/step - loss: 0.0095\n",
            "Epoch 70/150\n",
            "314/314 [==============================] - 1s 4ms/step - loss: 0.0071\n",
            "Epoch 71/150\n",
            "314/314 [==============================] - 1s 4ms/step - loss: 0.0107\n",
            "Epoch 72/150\n",
            "314/314 [==============================] - 1s 5ms/step - loss: 0.0082\n",
            "Epoch 73/150\n",
            "314/314 [==============================] - 1s 4ms/step - loss: 0.0072\n",
            "Epoch 74/150\n",
            "314/314 [==============================] - 1s 4ms/step - loss: 0.0077\n",
            "Epoch 75/150\n",
            "314/314 [==============================] - 1s 4ms/step - loss: 0.0078\n",
            "Epoch 76/150\n",
            "314/314 [==============================] - 1s 3ms/step - loss: 0.0078\n",
            "Epoch 77/150\n",
            "314/314 [==============================] - 1s 4ms/step - loss: 0.0069\n",
            "Epoch 78/150\n",
            "314/314 [==============================] - 1s 4ms/step - loss: 0.0075\n",
            "Epoch 79/150\n",
            "314/314 [==============================] - 1s 4ms/step - loss: 0.0070\n",
            "Epoch 80/150\n",
            "314/314 [==============================] - 1s 4ms/step - loss: 0.0068\n",
            "Epoch 81/150\n",
            "314/314 [==============================] - 1s 4ms/step - loss: 0.0072\n",
            "Epoch 82/150\n",
            "314/314 [==============================] - 1s 4ms/step - loss: 0.0089\n",
            "Epoch 83/150\n",
            "314/314 [==============================] - 1s 4ms/step - loss: 0.0085\n",
            "Epoch 84/150\n",
            "314/314 [==============================] - 1s 4ms/step - loss: 0.0078\n",
            "Epoch 85/150\n",
            "314/314 [==============================] - 1s 4ms/step - loss: 0.0074\n",
            "Epoch 86/150\n",
            "314/314 [==============================] - 1s 4ms/step - loss: 0.0125\n",
            "Epoch 87/150\n",
            "314/314 [==============================] - 1s 4ms/step - loss: 0.0073\n",
            "Epoch 88/150\n",
            "314/314 [==============================] - 1s 4ms/step - loss: 0.0086\n",
            "Epoch 89/150\n",
            "314/314 [==============================] - 1s 3ms/step - loss: 0.0093\n",
            "Epoch 90/150\n",
            "314/314 [==============================] - 1s 4ms/step - loss: 0.0064\n",
            "Epoch 91/150\n",
            "314/314 [==============================] - 1s 4ms/step - loss: 0.0089\n",
            "Epoch 92/150\n",
            "314/314 [==============================] - 1s 4ms/step - loss: 0.0068\n",
            "Epoch 93/150\n",
            "314/314 [==============================] - 1s 4ms/step - loss: 0.0090\n",
            "Epoch 94/150\n",
            "314/314 [==============================] - 1s 4ms/step - loss: 0.0079\n",
            "Epoch 95/150\n",
            "314/314 [==============================] - 1s 4ms/step - loss: 0.0081\n",
            "Epoch 96/150\n",
            "314/314 [==============================] - 1s 4ms/step - loss: 0.0092\n",
            "Epoch 97/150\n",
            "314/314 [==============================] - 1s 4ms/step - loss: 0.0055\n",
            "Epoch 98/150\n",
            "314/314 [==============================] - 1s 5ms/step - loss: 0.0075\n",
            "Epoch 99/150\n"
          ]
        },
        {
          "name": "stdout",
          "output_type": "stream",
          "text": [
            "314/314 [==============================] - 1s 4ms/step - loss: 0.0096\n",
            "Epoch 100/150\n",
            "314/314 [==============================] - 1s 4ms/step - loss: 0.0062\n",
            "Epoch 101/150\n",
            "314/314 [==============================] - 1s 4ms/step - loss: 0.0061\n",
            "Epoch 102/150\n",
            "314/314 [==============================] - 1s 5ms/step - loss: 0.0061\n",
            "Epoch 103/150\n",
            "314/314 [==============================] - 2s 5ms/step - loss: 0.0073\n",
            "Epoch 104/150\n",
            "314/314 [==============================] - 1s 4ms/step - loss: 0.0080\n",
            "Epoch 105/150\n",
            "314/314 [==============================] - 1s 4ms/step - loss: 0.0094\n",
            "Epoch 106/150\n",
            "314/314 [==============================] - 1s 4ms/step - loss: 0.0073\n",
            "Epoch 107/150\n",
            "314/314 [==============================] - 1s 4ms/step - loss: 0.0078\n",
            "Epoch 108/150\n",
            "314/314 [==============================] - 2s 5ms/step - loss: 0.0071\n",
            "Epoch 109/150\n",
            "314/314 [==============================] - 1s 4ms/step - loss: 0.0067\n",
            "Epoch 110/150\n",
            "314/314 [==============================] - 1s 4ms/step - loss: 0.0058\n",
            "Epoch 111/150\n",
            "314/314 [==============================] - 2s 6ms/step - loss: 0.0078\n",
            "Epoch 112/150\n",
            "314/314 [==============================] - 2s 7ms/step - loss: 0.0104\n",
            "Epoch 113/150\n",
            "314/314 [==============================] - 2s 7ms/step - loss: 0.0081\n",
            "Epoch 114/150\n",
            "314/314 [==============================] - 2s 7ms/step - loss: 0.0067\n",
            "Epoch 115/150\n",
            "314/314 [==============================] - 2s 6ms/step - loss: 0.0063\n",
            "Epoch 116/150\n",
            "314/314 [==============================] - 2s 6ms/step - loss: 0.0089\n",
            "Epoch 117/150\n",
            "314/314 [==============================] - 1s 4ms/step - loss: 0.0066\n",
            "Epoch 118/150\n",
            "314/314 [==============================] - 1s 4ms/step - loss: 0.0078\n",
            "Epoch 119/150\n",
            "314/314 [==============================] - 1s 5ms/step - loss: 0.0058\n",
            "Epoch 120/150\n",
            "314/314 [==============================] - 2s 5ms/step - loss: 0.0072\n",
            "Epoch 121/150\n",
            "314/314 [==============================] - 2s 5ms/step - loss: 0.0083\n",
            "Epoch 122/150\n",
            "314/314 [==============================] - 2s 6ms/step - loss: 0.0069\n",
            "Epoch 123/150\n",
            "314/314 [==============================] - 2s 5ms/step - loss: 0.0082\n",
            "Epoch 124/150\n",
            "314/314 [==============================] - 2s 5ms/step - loss: 0.0081\n",
            "Epoch 125/150\n",
            "314/314 [==============================] - 2s 5ms/step - loss: 0.0119\n",
            "Epoch 126/150\n",
            "314/314 [==============================] - 2s 6ms/step - loss: 0.0080\n",
            "Epoch 127/150\n",
            "314/314 [==============================] - 2s 5ms/step - loss: 0.0070\n",
            "Epoch 128/150\n",
            "314/314 [==============================] - 2s 5ms/step - loss: 0.0100\n",
            "Epoch 129/150\n",
            "314/314 [==============================] - 2s 5ms/step - loss: 0.0062\n",
            "Epoch 130/150\n",
            "314/314 [==============================] - 2s 5ms/step - loss: 0.0064\n",
            "Epoch 131/150\n",
            "314/314 [==============================] - 2s 5ms/step - loss: 0.0092\n",
            "Epoch 132/150\n",
            "314/314 [==============================] - 2s 5ms/step - loss: 0.0070\n",
            "Epoch 133/150\n",
            "314/314 [==============================] - 2s 6ms/step - loss: 0.0081\n",
            "Epoch 134/150\n",
            "314/314 [==============================] - 2s 6ms/step - loss: 0.0072\n",
            "Epoch 135/150\n",
            "314/314 [==============================] - 2s 5ms/step - loss: 0.0096\n",
            "Epoch 136/150\n",
            "314/314 [==============================] - 2s 5ms/step - loss: 0.0082\n",
            "Epoch 137/150\n",
            "314/314 [==============================] - 2s 5ms/step - loss: 0.0059\n",
            "Epoch 138/150\n",
            "314/314 [==============================] - 1s 4ms/step - loss: 0.0078\n",
            "Epoch 139/150\n",
            "314/314 [==============================] - 1s 4ms/step - loss: 0.0068\n",
            "Epoch 140/150\n",
            "314/314 [==============================] - 1s 4ms/step - loss: 0.0077\n",
            "Epoch 141/150\n",
            "314/314 [==============================] - 1s 4ms/step - loss: 0.0080\n",
            "Epoch 142/150\n",
            "314/314 [==============================] - 1s 4ms/step - loss: 0.0083\n",
            "Epoch 143/150\n",
            "314/314 [==============================] - 1s 4ms/step - loss: 0.0077\n",
            "Epoch 144/150\n",
            "314/314 [==============================] - 1s 4ms/step - loss: 0.0089\n",
            "Epoch 145/150\n",
            "314/314 [==============================] - 1s 4ms/step - loss: 0.0060\n",
            "Epoch 146/150\n",
            "314/314 [==============================] - 1s 5ms/step - loss: 0.0077\n",
            "Epoch 147/150\n",
            "314/314 [==============================] - 1s 4ms/step - loss: 0.0076\n",
            "Epoch 148/150\n",
            "314/314 [==============================] - 1s 4ms/step - loss: 0.0086\n",
            "Epoch 149/150\n",
            "314/314 [==============================] - 1s 5ms/step - loss: 0.0063\n",
            "Epoch 150/150\n",
            "314/314 [==============================] - 1s 4ms/step - loss: 0.0053\n"
          ]
        },
        {
          "data": {
            "text/plain": [
              "<tensorflow.python.keras.callbacks.History at 0x1c2c4a58820>"
            ]
          },
          "execution_count": 85,
          "metadata": {},
          "output_type": "execute_result"
        }
      ],
      "source": [
        "lstm_model.fit(generator, epochs = 150)"
      ]
    },
    {
      "cell_type": "code",
      "execution_count": null,
      "metadata": {
        "id": "GX_apXn_0HGr"
      },
      "outputs": [],
      "source": [
        "lstm_predictions_scaled = list()\n",
        "\n",
        "batch = scaled_train_data[-lags:]\n",
        "current_batch = batch.reshape((1, lags, recs))\n",
        "\n",
        "for i in range(len(test)):   \n",
        "    lstm_pred = lstm_model.predict(current_batch)[0]\n",
        "    lstm_predictions_scaled.append(lstm_pred) \n",
        "    current_batch = np.append(current_batch[:,1:,:],[[lstm_pred]],axis=1)"
      ]
    },
    {
      "cell_type": "code",
      "execution_count": null,
      "metadata": {
        "id": "59Xu7f2G0HGr",
        "outputId": "b85ac9c0-373a-4c57-9e90-50c550ee70f9"
      },
      "outputs": [
        {
          "data": {
            "text/plain": [
              "array([[56],\n",
              "       [43],\n",
              "       [46],\n",
              "       [66],\n",
              "       [74],\n",
              "       [61],\n",
              "       [53]])"
            ]
          },
          "execution_count": 87,
          "metadata": {},
          "output_type": "execute_result"
        }
      ],
      "source": [
        "lstm_predictions = scaler.inverse_transform(lstm_predictions_scaled)\n",
        "lstm_predictions = lstm_predictions.round().astype('int')\n",
        "lstm_predictions"
      ]
    },
    {
      "cell_type": "code",
      "execution_count": null,
      "metadata": {
        "id": "TF9mFhML0HGr",
        "outputId": "c4ff5c29-4e90-44d5-bf88-31d647e3a050"
      },
      "outputs": [
        {
          "data": {
            "text/html": [
              "<div>\n",
              "<style scoped>\n",
              "    .dataframe tbody tr th:only-of-type {\n",
              "        vertical-align: middle;\n",
              "    }\n",
              "\n",
              "    .dataframe tbody tr th {\n",
              "        vertical-align: top;\n",
              "    }\n",
              "\n",
              "    .dataframe thead th {\n",
              "        text-align: right;\n",
              "    }\n",
              "</style>\n",
              "<table border=\"1\" class=\"dataframe\">\n",
              "  <thead>\n",
              "    <tr style=\"text-align: right;\">\n",
              "      <th></th>\n",
              "      <th>novasMortes</th>\n",
              "      <th>mortesPreditas</th>\n",
              "      <th>erro abs</th>\n",
              "      <th>erro % abs</th>\n",
              "      <th>erro ^ 2</th>\n",
              "    </tr>\n",
              "    <tr>\n",
              "      <th>data</th>\n",
              "      <th></th>\n",
              "      <th></th>\n",
              "      <th></th>\n",
              "      <th></th>\n",
              "      <th></th>\n",
              "    </tr>\n",
              "  </thead>\n",
              "  <tbody>\n",
              "    <tr>\n",
              "      <th>2021-06-04</th>\n",
              "      <td>67</td>\n",
              "      <td>56</td>\n",
              "      <td>11</td>\n",
              "      <td>16.42</td>\n",
              "      <td>121</td>\n",
              "    </tr>\n",
              "    <tr>\n",
              "      <th>2021-06-05</th>\n",
              "      <td>44</td>\n",
              "      <td>43</td>\n",
              "      <td>1</td>\n",
              "      <td>2.27</td>\n",
              "      <td>1</td>\n",
              "    </tr>\n",
              "    <tr>\n",
              "      <th>2021-06-06</th>\n",
              "      <td>33</td>\n",
              "      <td>46</td>\n",
              "      <td>13</td>\n",
              "      <td>39.39</td>\n",
              "      <td>169</td>\n",
              "    </tr>\n",
              "    <tr>\n",
              "      <th>2021-06-07</th>\n",
              "      <td>58</td>\n",
              "      <td>66</td>\n",
              "      <td>8</td>\n",
              "      <td>13.79</td>\n",
              "      <td>64</td>\n",
              "    </tr>\n",
              "    <tr>\n",
              "      <th>2021-06-08</th>\n",
              "      <td>84</td>\n",
              "      <td>74</td>\n",
              "      <td>10</td>\n",
              "      <td>11.90</td>\n",
              "      <td>100</td>\n",
              "    </tr>\n",
              "    <tr>\n",
              "      <th>2021-06-09</th>\n",
              "      <td>51</td>\n",
              "      <td>61</td>\n",
              "      <td>10</td>\n",
              "      <td>19.61</td>\n",
              "      <td>100</td>\n",
              "    </tr>\n",
              "    <tr>\n",
              "      <th>2021-06-10</th>\n",
              "      <td>45</td>\n",
              "      <td>53</td>\n",
              "      <td>8</td>\n",
              "      <td>17.78</td>\n",
              "      <td>64</td>\n",
              "    </tr>\n",
              "  </tbody>\n",
              "</table>\n",
              "</div>"
            ],
            "text/plain": [
              "            novasMortes  mortesPreditas  erro abs  erro % abs  erro ^ 2\n",
              "data                                                                   \n",
              "2021-06-04           67              56        11       16.42       121\n",
              "2021-06-05           44              43         1        2.27         1\n",
              "2021-06-06           33              46        13       39.39       169\n",
              "2021-06-07           58              66         8       13.79        64\n",
              "2021-06-08           84              74        10       11.90       100\n",
              "2021-06-09           51              61        10       19.61       100\n",
              "2021-06-10           45              53         8       17.78        64"
            ]
          },
          "execution_count": 88,
          "metadata": {},
          "output_type": "execute_result"
        }
      ],
      "source": [
        "real_pred_lstm,mae_lstm, mape_lstm, rmse_lstm = calcula_erro(test,lstm_predictions)\n",
        "real_pred_lstm"
      ]
    },
    {
      "cell_type": "code",
      "execution_count": null,
      "metadata": {
        "id": "GbDbV4tt0HGs"
      },
      "outputs": [],
      "source": [
        "tabela_previsoes = tabela_previsoes.assign( predit_LSTM = lstm_predictions)"
      ]
    },
    {
      "cell_type": "code",
      "execution_count": null,
      "metadata": {
        "id": "qtzLfxDH0HGs",
        "outputId": "b4508e7c-b588-495f-ef37-33f1ed77fa3d"
      },
      "outputs": [
        {
          "data": {
            "text/plain": [
              "9"
            ]
          },
          "execution_count": 90,
          "metadata": {},
          "output_type": "execute_result"
        }
      ],
      "source": [
        "mae_lstm"
      ]
    },
    {
      "cell_type": "code",
      "execution_count": null,
      "metadata": {
        "id": "aCy2xbyM0HGs",
        "outputId": "5ae363a9-1cc9-4554-fe85-b75073f59947"
      },
      "outputs": [
        {
          "data": {
            "text/plain": [
              "17.31"
            ]
          },
          "execution_count": 91,
          "metadata": {},
          "output_type": "execute_result"
        }
      ],
      "source": [
        "mape_lstm"
      ]
    },
    {
      "cell_type": "code",
      "execution_count": null,
      "metadata": {
        "id": "OgRkGXnK0HGs",
        "outputId": "73424b84-08f4-40fa-d5fa-909906dfcc16"
      },
      "outputs": [
        {
          "data": {
            "text/plain": [
              "9.4"
            ]
          },
          "execution_count": 92,
          "metadata": {},
          "output_type": "execute_result"
        }
      ],
      "source": [
        "rmse_lstm"
      ]
    },
    {
      "cell_type": "code",
      "execution_count": null,
      "metadata": {
        "id": "YIsFYm9f0HGt",
        "outputId": "3a3d02fa-7f0c-491f-9651-426b14144428"
      },
      "outputs": [
        {
          "data": {
            "image/png": "[encoded data removed]",
            "text/plain": [
              "<Figure size 720x360 with 1 Axes>"
            ]
          },
          "metadata": {
            "needs_background": "light"
          },
          "output_type": "display_data"
        }
      ],
      "source": [
        "plt.figure(figsize=(10,5))\n",
        "plt.plot(real_pred_lstm['mortesPreditas'], label = 'Dados Preditos',marker='o', color='yellow')\n",
        "plt.plot(real_pred_lstm['novasMortes'], label = 'Dados Reais',marker='o', color='black')\n",
        "plt.ylabel('MORTES')\n",
        "plt.xlabel('DATA')\n",
        "plt.legend()\n",
        "plt.title('Previsão de mortes diara relacionada ao COVID-19\\n no estado de Santa Catarina com LSTM')\n",
        "plt.show() "
      ]
    },
    {
      "cell_type": "markdown",
      "metadata": {
        "id": "Jp1MW8tB0HGt"
      },
      "source": [
        "# # Previsões com todos os modelos"
      ]
    },
    {
      "cell_type": "code",
      "execution_count": null,
      "metadata": {
        "id": "euu03-YY0HGt",
        "outputId": "83ada846-7ae6-403e-9ec3-be9661a47625"
      },
      "outputs": [
        {
          "data": {
            "image/png": "[encoded data removed]",
            "text/plain": [
              "<Figure size 720x360 with 1 Axes>"
            ]
          },
          "metadata": {
            "needs_background": "light"
          },
          "output_type": "display_data"
        }
      ],
      "source": [
        "plt.plot(tabela_previsoes['novasMortes'], label = 'Dados Reais', color = 'black', marker='o')\n",
        "plt.plot(tabela_previsoes['predit_arima'], label ='Predição - ARIMA', color = 'blue', marker='o')\n",
        "plt.plot(tabela_previsoes['predit_sarima'], label = 'Predição - SARIMA', color = 'green', marker='o')\n",
        "plt.plot(tabela_previsoes['predit_HW'], label = 'Predição - Holt Winters',  color = 'red', marker='o')\n",
        "plt.plot(tabela_previsoes['predit_LSTM'], label ='Predição - LSTM', color ='yellow', marker='o')\n",
        "\n",
        "plt.ylabel('MORTES')\n",
        "plt.xlabel('DATA')\n",
        "\n",
        "plt.title('Previsão de mortes diara relacionada ao COVID-19 \\n no estado de Santa Catarina')\n",
        "plt.legend()\n",
        "plt.show()"
      ]
    },
    {
      "cell_type": "code",
      "execution_count": null,
      "metadata": {
        "id": "3rILLGuh0HGt",
        "outputId": "660a6fc6-5a4c-405e-adac-9e95eb28fdcf"
      },
      "outputs": [
        {
          "data": {
            "text/html": [
              "<div>\n",
              "<style scoped>\n",
              "    .dataframe tbody tr th:only-of-type {\n",
              "        vertical-align: middle;\n",
              "    }\n",
              "\n",
              "    .dataframe tbody tr th {\n",
              "        vertical-align: top;\n",
              "    }\n",
              "\n",
              "    .dataframe thead th {\n",
              "        text-align: right;\n",
              "    }\n",
              "</style>\n",
              "<table border=\"1\" class=\"dataframe\">\n",
              "  <thead>\n",
              "    <tr style=\"text-align: right;\">\n",
              "      <th></th>\n",
              "      <th>novasMortes</th>\n",
              "      <th>predit_arima</th>\n",
              "      <th>predit_HW</th>\n",
              "      <th>predit_sarima</th>\n",
              "      <th>predit_LSTM</th>\n",
              "    </tr>\n",
              "    <tr>\n",
              "      <th>data</th>\n",
              "      <th></th>\n",
              "      <th></th>\n",
              "      <th></th>\n",
              "      <th></th>\n",
              "      <th></th>\n",
              "    </tr>\n",
              "  </thead>\n",
              "  <tbody>\n",
              "    <tr>\n",
              "      <th>2021-06-04</th>\n",
              "      <td>67</td>\n",
              "      <td>68</td>\n",
              "      <td>64</td>\n",
              "      <td>66</td>\n",
              "      <td>56</td>\n",
              "    </tr>\n",
              "    <tr>\n",
              "      <th>2021-06-05</th>\n",
              "      <td>44</td>\n",
              "      <td>52</td>\n",
              "      <td>41</td>\n",
              "      <td>50</td>\n",
              "      <td>43</td>\n",
              "    </tr>\n",
              "    <tr>\n",
              "      <th>2021-06-06</th>\n",
              "      <td>33</td>\n",
              "      <td>30</td>\n",
              "      <td>25</td>\n",
              "      <td>33</td>\n",
              "      <td>46</td>\n",
              "    </tr>\n",
              "    <tr>\n",
              "      <th>2021-06-07</th>\n",
              "      <td>58</td>\n",
              "      <td>56</td>\n",
              "      <td>47</td>\n",
              "      <td>54</td>\n",
              "      <td>66</td>\n",
              "    </tr>\n",
              "    <tr>\n",
              "      <th>2021-06-08</th>\n",
              "      <td>84</td>\n",
              "      <td>82</td>\n",
              "      <td>90</td>\n",
              "      <td>87</td>\n",
              "      <td>74</td>\n",
              "    </tr>\n",
              "    <tr>\n",
              "      <th>2021-06-09</th>\n",
              "      <td>51</td>\n",
              "      <td>65</td>\n",
              "      <td>55</td>\n",
              "      <td>57</td>\n",
              "      <td>61</td>\n",
              "    </tr>\n",
              "    <tr>\n",
              "      <th>2021-06-10</th>\n",
              "      <td>45</td>\n",
              "      <td>55</td>\n",
              "      <td>63</td>\n",
              "      <td>60</td>\n",
              "      <td>53</td>\n",
              "    </tr>\n",
              "  </tbody>\n",
              "</table>\n",
              "</div>"
            ],
            "text/plain": [
              "            novasMortes  predit_arima  predit_HW  predit_sarima  predit_LSTM\n",
              "data                                                                        \n",
              "2021-06-04           67            68         64             66           56\n",
              "2021-06-05           44            52         41             50           43\n",
              "2021-06-06           33            30         25             33           46\n",
              "2021-06-07           58            56         47             54           66\n",
              "2021-06-08           84            82         90             87           74\n",
              "2021-06-09           51            65         55             57           61\n",
              "2021-06-10           45            55         63             60           53"
            ]
          },
          "execution_count": 95,
          "metadata": {},
          "output_type": "execute_result"
        }
      ],
      "source": [
        "tabela_previsoes"
      ]
    },
    {
      "cell_type": "code",
      "execution_count": null,
      "metadata": {
        "id": "iYeLSElA0HGu"
      },
      "outputs": [],
      "source": [
        "resultados = pd.DataFrame(columns=('Modelo','MAPE'))\n",
        "\n",
        "resultados = resultados.append({'Modelo': 'ARIMA','MAE': mae_arima, 'MAPE': mape_arima, 'RMSE': rmse_arima}, ignore_index=True)\n",
        "resultados = resultados.append({'Modelo': 'SARIMA', 'MAE': mae_sarima, 'MAPE': mape_sarima, 'RMSE': rmse_sarima}, ignore_index=True)\n",
        "resultados = resultados.append({'Modelo': 'Holt-Winters','MAE':mae_holt, 'MAPE': mape_holt, 'RMSE': rmse_holt}, ignore_index=True)\n",
        "resultados = resultados.append({'Modelo': 'LSTM','MAE': mae_lstm, 'MAPE': mape_lstm, 'RMSE': rmse_lstm}, ignore_index=True)\n",
        "\n",
        "resultados = resultados.sort_values(by='MAPE', ascending=False)"
      ]
    },
    {
      "cell_type": "code",
      "execution_count": null,
      "metadata": {
        "id": "kGtmj7P_0HGu",
        "outputId": "bb7411d8-de2d-43aa-e0b6-4f1c279f12e6"
      },
      "outputs": [
        {
          "data": {
            "text/html": [
              "<div>\n",
              "<style scoped>\n",
              "    .dataframe tbody tr th:only-of-type {\n",
              "        vertical-align: middle;\n",
              "    }\n",
              "\n",
              "    .dataframe tbody tr th {\n",
              "        vertical-align: top;\n",
              "    }\n",
              "\n",
              "    .dataframe thead th {\n",
              "        text-align: right;\n",
              "    }\n",
              "</style>\n",
              "<table border=\"1\" class=\"dataframe\">\n",
              "  <thead>\n",
              "    <tr style=\"text-align: right;\">\n",
              "      <th></th>\n",
              "      <th>Modelo</th>\n",
              "      <th>MAPE</th>\n",
              "      <th>MAE</th>\n",
              "      <th>RMSE</th>\n",
              "    </tr>\n",
              "  </thead>\n",
              "  <tbody>\n",
              "    <tr>\n",
              "      <th>3</th>\n",
              "      <td>LSTM</td>\n",
              "      <td>17.31</td>\n",
              "      <td>9.0</td>\n",
              "      <td>9.40</td>\n",
              "    </tr>\n",
              "    <tr>\n",
              "      <th>2</th>\n",
              "      <td>Holt-Winters</td>\n",
              "      <td>15.64</td>\n",
              "      <td>8.0</td>\n",
              "      <td>9.09</td>\n",
              "    </tr>\n",
              "    <tr>\n",
              "      <th>0</th>\n",
              "      <td>ARIMA</td>\n",
              "      <td>12.04</td>\n",
              "      <td>6.0</td>\n",
              "      <td>7.35</td>\n",
              "    </tr>\n",
              "    <tr>\n",
              "      <th>1</th>\n",
              "      <td>SARIMA</td>\n",
              "      <td>10.10</td>\n",
              "      <td>5.0</td>\n",
              "      <td>6.79</td>\n",
              "    </tr>\n",
              "  </tbody>\n",
              "</table>\n",
              "</div>"
            ],
            "text/plain": [
              "         Modelo   MAPE  MAE  RMSE\n",
              "3          LSTM  17.31  9.0  9.40\n",
              "2  Holt-Winters  15.64  8.0  9.09\n",
              "0         ARIMA  12.04  6.0  7.35\n",
              "1        SARIMA  10.10  5.0  6.79"
            ]
          },
          "execution_count": 97,
          "metadata": {},
          "output_type": "execute_result"
        }
      ],
      "source": [
        "resultados"
      ]
    }
  ],
  "metadata": {
    "kernelspec": {
      "display_name": "Python 3",
      "language": "python",
      "name": "python3"
    },
    "language_info": {
      "codemirror_mode": {
        "name": "ipython",
        "version": 3
      },
      "file_extension": ".py",
      "mimetype": "text/x-python",
      "name": "python",
      "nbconvert_exporter": "python",
      "pygments_lexer": "ipython3",
      "version": "3.8.5"
    },
    "colab": {
      "name": "Cópia de projetoTccBrasilIO.ipynb",
      "provenance": [],
      "collapsed_sections": []
    }
  },
  "nbformat": 4,
  "nbformat_minor": 0
}
